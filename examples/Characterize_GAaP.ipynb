{
 "cells": [
  {
   "cell_type": "markdown",
   "id": "f55bc24f",
   "metadata": {},
   "source": [
    "In this notebook, we will have Gaussian PSF and Gaussian galaxies, and characterize the noise and bias in the GAaP measurements in increasingly realistic scenarios."
   ]
  },
  {
   "cell_type": "code",
   "execution_count": 1,
   "id": "9ea7fe94",
   "metadata": {},
   "outputs": [],
   "source": [
    "import lsst.meas.extensions.gaap\n",
    "import lsst.utils.tests\n",
    "import lsst.meas.base as measBase\n",
    "import lsst.meas.base.tests\n",
    "import lsst.daf.base\n",
    "import lsst.afw.geom as afwGeom"
   ]
  },
  {
   "cell_type": "code",
   "execution_count": 2,
   "id": "0bded54e",
   "metadata": {},
   "outputs": [],
   "source": [
    "import lsst.ip.diffim as ip_diffim\n",
    "ip_diffim.modelPsfMatch.ModelPsfMatchTask.run?"
   ]
  },
  {
   "cell_type": "code",
   "execution_count": 24,
   "id": "9fa944c0",
   "metadata": {},
   "outputs": [],
   "source": [
    "class CharacterizeGaap(lsst.meas.base.tests.AlgorithmTestCase, lsst.utils.tests.TestCase):\n",
    "    \n",
    "    def setUp(self, noise):\n",
    "        self.center = lsst.geom.Point2D(100, 700)\n",
    "        self.bbox = lsst.geom.Box2I(lsst.geom.Point2I(-20, -30), lsst.geom.Extent2I(240, 1600))\n",
    "        self.dataset = lsst.meas.base.tests.TestDataset(self.bbox)\n",
    "        # Insert multiple sources here\n",
    "        self.dataset.addSource(1000, self.center + lsst.geom.Extent2I(0, 100), afwGeom.Quadrupole(9,9,4))\n",
    "        \n",
    "        schema = lsst.meas.base.tests.TestDataset.makeMinimalSchema()\n",
    "        detectConfig = lsst.meas.algorithms.SourceDetectionConfig()\n",
    "        detectConfig.returnOriginalFootprints = False\n",
    "        detectConfig.thresholdValue = 10\n",
    "        detectTask = lsst.meas.algorithms.SourceDetectionTask(config=detectConfig, schema=schema)\n",
    "        deblendTask = lsst.meas.deblender.SourceDeblendTask(schema=schema)\n",
    "        \n",
    "        table = lsst.afw.table.SourceTable.make(schema)\n",
    "        exposure, catalog = self.dataset.realize(noise, schema)\n",
    "        detectResult = detectTask.run(table, exposure)\n",
    "        catalog = detectResult.sources\n",
    "        \n",
    "        deblendTask.run(exposure, catalog)\n",
    "        \n",
    "    def tearDown(self):\n",
    "        del self.center\n",
    "        del self.bbox\n",
    "        del self.dataset\n",
    "        \n",
    "    def test1(self, noise):\n",
    "        algName = \"ext_gaap_GaapFlux\"\n",
    "        dependencies = (\"base_SdssShape\",)\n",
    "        algMetadata = lsst.daf.base.PropertyList()\n",
    "        sfmConfig = self.makeSingleFrameMeasurementConfig(algName, dependencies=dependencies)\n",
    "        sfmConfig.plugins[algName].doPsfPhotometry = True\n",
    "        sfmTask = self.makeSingleFrameMeasurementTask(config=sfmConfig, algMetadata=algMetadata)\n",
    "        # exposure, catalog = self.dataset.realize(0.0, sfmTask.schema)\n",
    "        sfmTask.run(catalog, exposure)\n",
    "        return exposure, catalog\n",
    "        "
   ]
  },
  {
   "cell_type": "code",
   "execution_count": 25,
   "id": "8e8f6ade",
   "metadata": {},
   "outputs": [
    {
     "ename": "InvalidParameterError",
     "evalue": "\n  File \"src/table/Schema.cc\", line 394, in lsst::afw::table::Key<U> lsst::afw::table::detail::SchemaImpl::addFieldImpl(int, int, const lsst::afw::table::Field<T>&, bool) [with T = int]\n    Field with name 'deblend_nChild' already present in schema. {0}\nlsst::pex::exceptions::InvalidParameterError: 'Field with name 'deblend_nChild' already present in schema.'\n",
     "output_type": "error",
     "traceback": [
      "\u001b[0;31m---------------------------------------------------------------------------\u001b[0m",
      "\u001b[0;31mInvalidParameterError\u001b[0m                     Traceback (most recent call last)",
      "\u001b[0;32m<ipython-input-25-ec34d380308e>\u001b[0m in \u001b[0;36m<module>\u001b[0;34m\u001b[0m\n\u001b[1;32m      1\u001b[0m \u001b[0minstance\u001b[0m \u001b[0;34m=\u001b[0m \u001b[0mCharacterizeGaap\u001b[0m\u001b[0;34m(\u001b[0m\u001b[0;34m)\u001b[0m\u001b[0;34m\u001b[0m\u001b[0;34m\u001b[0m\u001b[0m\n\u001b[0;32m----> 2\u001b[0;31m \u001b[0minstance\u001b[0m\u001b[0;34m.\u001b[0m\u001b[0msetUp\u001b[0m\u001b[0;34m(\u001b[0m\u001b[0;36m10.0\u001b[0m\u001b[0;34m)\u001b[0m\u001b[0;34m\u001b[0m\u001b[0;34m\u001b[0m\u001b[0m\n\u001b[0m\u001b[1;32m      3\u001b[0m \u001b[0mexp\u001b[0m\u001b[0;34m,\u001b[0m \u001b[0mcat\u001b[0m \u001b[0;34m=\u001b[0m \u001b[0minstance\u001b[0m\u001b[0;34m.\u001b[0m\u001b[0mtest1\u001b[0m\u001b[0;34m(\u001b[0m\u001b[0;36m10.0\u001b[0m\u001b[0;34m)\u001b[0m\u001b[0;34m\u001b[0m\u001b[0;34m\u001b[0m\u001b[0m\n",
      "\u001b[0;32m<ipython-input-24-632a556f6150>\u001b[0m in \u001b[0;36msetUp\u001b[0;34m(self, noise)\u001b[0m\n\u001b[1;32m     13\u001b[0m         \u001b[0mdetectConfig\u001b[0m\u001b[0;34m.\u001b[0m\u001b[0mthresholdValue\u001b[0m \u001b[0;34m=\u001b[0m \u001b[0;36m10\u001b[0m\u001b[0;34m\u001b[0m\u001b[0;34m\u001b[0m\u001b[0m\n\u001b[1;32m     14\u001b[0m         \u001b[0mdetectTask\u001b[0m \u001b[0;34m=\u001b[0m \u001b[0mlsst\u001b[0m\u001b[0;34m.\u001b[0m\u001b[0mmeas\u001b[0m\u001b[0;34m.\u001b[0m\u001b[0malgorithms\u001b[0m\u001b[0;34m.\u001b[0m\u001b[0mSourceDetectionTask\u001b[0m\u001b[0;34m(\u001b[0m\u001b[0mconfig\u001b[0m\u001b[0;34m=\u001b[0m\u001b[0mdetectConfig\u001b[0m\u001b[0;34m,\u001b[0m \u001b[0mschema\u001b[0m\u001b[0;34m=\u001b[0m\u001b[0mschema\u001b[0m\u001b[0;34m)\u001b[0m\u001b[0;34m\u001b[0m\u001b[0;34m\u001b[0m\u001b[0m\n\u001b[0;32m---> 15\u001b[0;31m         \u001b[0mdeblendTask\u001b[0m \u001b[0;34m=\u001b[0m \u001b[0mlsst\u001b[0m\u001b[0;34m.\u001b[0m\u001b[0mmeas\u001b[0m\u001b[0;34m.\u001b[0m\u001b[0mdeblender\u001b[0m\u001b[0;34m.\u001b[0m\u001b[0mSourceDeblendTask\u001b[0m\u001b[0;34m(\u001b[0m\u001b[0mschema\u001b[0m\u001b[0;34m=\u001b[0m\u001b[0mschema\u001b[0m\u001b[0;34m)\u001b[0m\u001b[0;34m\u001b[0m\u001b[0;34m\u001b[0m\u001b[0m\n\u001b[0m\u001b[1;32m     16\u001b[0m \u001b[0;34m\u001b[0m\u001b[0m\n\u001b[1;32m     17\u001b[0m         \u001b[0mtable\u001b[0m \u001b[0;34m=\u001b[0m \u001b[0mlsst\u001b[0m\u001b[0;34m.\u001b[0m\u001b[0mafw\u001b[0m\u001b[0;34m.\u001b[0m\u001b[0mtable\u001b[0m\u001b[0;34m.\u001b[0m\u001b[0mSourceTable\u001b[0m\u001b[0;34m.\u001b[0m\u001b[0mmake\u001b[0m\u001b[0;34m(\u001b[0m\u001b[0mschema\u001b[0m\u001b[0;34m)\u001b[0m\u001b[0;34m\u001b[0m\u001b[0;34m\u001b[0m\u001b[0m\n",
      "\u001b[0;32m/software/lsstsw/stack_20210520/stack/miniconda3-py38_4.9.2-0.6.0/Linux64/meas_deblender/21.0.0-4-g7dab645+22b4b30266/python/lsst/meas/deblender/sourceDeblendTask.py\u001b[0m in \u001b[0;36m__init__\u001b[0;34m(self, schema, peakSchema, **kwargs)\u001b[0m\n\u001b[1;32m    210\u001b[0m                     \u001b[0mschema\u001b[0m\u001b[0;34m.\u001b[0m\u001b[0maddField\u001b[0m\u001b[0;34m(\u001b[0m\u001b[0mitem\u001b[0m\u001b[0;34m.\u001b[0m\u001b[0mfield\u001b[0m\u001b[0;34m)\u001b[0m\u001b[0;34m\u001b[0m\u001b[0;34m\u001b[0m\u001b[0m\n\u001b[1;32m    211\u001b[0m             \u001b[0;32massert\u001b[0m \u001b[0mschema\u001b[0m \u001b[0;34m==\u001b[0m \u001b[0mself\u001b[0m\u001b[0;34m.\u001b[0m\u001b[0mpeakSchemaMapper\u001b[0m\u001b[0;34m.\u001b[0m\u001b[0mgetOutputSchema\u001b[0m\u001b[0;34m(\u001b[0m\u001b[0;34m)\u001b[0m\u001b[0;34m,\u001b[0m \u001b[0;34m\"Logic bug mapping schemas\"\u001b[0m\u001b[0;34m\u001b[0m\u001b[0;34m\u001b[0m\u001b[0m\n\u001b[0;32m--> 212\u001b[0;31m         \u001b[0mself\u001b[0m\u001b[0;34m.\u001b[0m\u001b[0maddSchemaKeys\u001b[0m\u001b[0;34m(\u001b[0m\u001b[0mschema\u001b[0m\u001b[0;34m)\u001b[0m\u001b[0;34m\u001b[0m\u001b[0;34m\u001b[0m\u001b[0m\n\u001b[0m\u001b[1;32m    213\u001b[0m \u001b[0;34m\u001b[0m\u001b[0m\n\u001b[1;32m    214\u001b[0m     \u001b[0;32mdef\u001b[0m \u001b[0maddSchemaKeys\u001b[0m\u001b[0;34m(\u001b[0m\u001b[0mself\u001b[0m\u001b[0;34m,\u001b[0m \u001b[0mschema\u001b[0m\u001b[0;34m)\u001b[0m\u001b[0;34m:\u001b[0m\u001b[0;34m\u001b[0m\u001b[0;34m\u001b[0m\u001b[0m\n",
      "\u001b[0;32m/software/lsstsw/stack_20210520/stack/miniconda3-py38_4.9.2-0.6.0/Linux64/meas_deblender/21.0.0-4-g7dab645+22b4b30266/python/lsst/meas/deblender/sourceDeblendTask.py\u001b[0m in \u001b[0;36maddSchemaKeys\u001b[0;34m(self, schema)\u001b[0m\n\u001b[1;32m    213\u001b[0m \u001b[0;34m\u001b[0m\u001b[0m\n\u001b[1;32m    214\u001b[0m     \u001b[0;32mdef\u001b[0m \u001b[0maddSchemaKeys\u001b[0m\u001b[0;34m(\u001b[0m\u001b[0mself\u001b[0m\u001b[0;34m,\u001b[0m \u001b[0mschema\u001b[0m\u001b[0;34m)\u001b[0m\u001b[0;34m:\u001b[0m\u001b[0;34m\u001b[0m\u001b[0;34m\u001b[0m\u001b[0m\n\u001b[0;32m--> 215\u001b[0;31m         self.nChildKey = schema.addField('deblend_nChild', type=np.int32,\n\u001b[0m\u001b[1;32m    216\u001b[0m                                          doc='Number of children this object has (defaults to 0)')\n\u001b[1;32m    217\u001b[0m         self.psfKey = schema.addField('deblend_deblendedAsPsf', type='Flag',\n",
      "\u001b[0;32m/software/lsstsw/stack_20210520/stack/miniconda3-py38_4.9.2-0.6.0/Linux64/afw/21.0.0-39-g68de21fec+f88c352dc9/python/lsst/afw/table/_schema.py\u001b[0m in \u001b[0;36maddField\u001b[0;34m(self, field, type, doc, units, size, doReplace, parse_strict)\u001b[0m\n\u001b[1;32m    160\u001b[0m             field = Field[type](field, doc=doc, units=units,\n\u001b[1;32m    161\u001b[0m                                 size=size, parse_strict=parse_strict)\n\u001b[0;32m--> 162\u001b[0;31m         \u001b[0;32mreturn\u001b[0m \u001b[0mfield\u001b[0m\u001b[0;34m.\u001b[0m\u001b[0m_addTo\u001b[0m\u001b[0;34m(\u001b[0m\u001b[0mself\u001b[0m\u001b[0;34m,\u001b[0m \u001b[0mdoReplace\u001b[0m\u001b[0;34m)\u001b[0m\u001b[0;34m\u001b[0m\u001b[0;34m\u001b[0m\u001b[0m\n\u001b[0m\u001b[1;32m    163\u001b[0m \u001b[0;34m\u001b[0m\u001b[0m\n\u001b[1;32m    164\u001b[0m     \u001b[0;32mdef\u001b[0m \u001b[0mextract\u001b[0m\u001b[0;34m(\u001b[0m\u001b[0mself\u001b[0m\u001b[0;34m,\u001b[0m \u001b[0;34m*\u001b[0m\u001b[0mpatterns\u001b[0m\u001b[0;34m,\u001b[0m \u001b[0;34m**\u001b[0m\u001b[0mkwargs\u001b[0m\u001b[0;34m)\u001b[0m\u001b[0;34m:\u001b[0m\u001b[0;34m\u001b[0m\u001b[0;34m\u001b[0m\u001b[0m\n",
      "\u001b[0;31mInvalidParameterError\u001b[0m: \n  File \"src/table/Schema.cc\", line 394, in lsst::afw::table::Key<U> lsst::afw::table::detail::SchemaImpl::addFieldImpl(int, int, const lsst::afw::table::Field<T>&, bool) [with T = int]\n    Field with name 'deblend_nChild' already present in schema. {0}\nlsst::pex::exceptions::InvalidParameterError: 'Field with name 'deblend_nChild' already present in schema.'\n"
     ]
    }
   ],
   "source": [
    "instance = CharacterizeGaap()\n",
    "instance.setUp(10.0)\n",
    "exp, cat = instance.test1(10.0)"
   ]
  },
  {
   "cell_type": "code",
   "execution_count": 17,
   "id": "11c27b08",
   "metadata": {},
   "outputs": [
    {
     "data": {
      "text/html": [
       "<i>Table length=1</i>\n",
       "<table id=\"table140441609127680\" class=\"table-striped table-bordered table-condensed\">\n",
       "<thead><tr><th>id</th><th>coord_ra</th><th>coord_dec</th><th>parent</th><th>deblend_nChild</th><th>truth_instFlux</th><th>slot_Centroid_instFlux</th><th>slot_Shape_instFlux</th><th>truth_x</th><th>slot_Centroid_x</th><th>slot_Shape_x</th><th>truth_y</th><th>slot_Centroid_y</th><th>slot_Shape_y</th><th>truth_xErr</th><th>slot_Centroid_xErr</th><th>slot_Shape_xErr</th><th>truth_yErr</th><th>slot_Centroid_yErr</th><th>slot_Shape_yErr</th><th>truth_x_y_Cov</th><th>slot_Centroid_x_y_Cov</th><th>slot_Shape_x_y_Cov</th><th>truth_flag</th><th>base_SdssShape_flag_badCentroid</th><th>slot_Centroid_flag</th><th>slot_Shape_flag</th><th>truth_xx</th><th>slot_Centroid_xx</th><th>slot_Shape_xx</th><th>truth_yy</th><th>slot_Centroid_yy</th><th>slot_Shape_yy</th><th>truth_xy</th><th>slot_Centroid_xy</th><th>slot_Shape_xy</th><th>truth_isStar</th><th>slot_Centroid_isStar</th><th>slot_Shape_isStar</th><th>base_SdssShape_xx</th><th>base_SdssShape_yy</th><th>base_SdssShape_xy</th><th>base_SdssShape_xxErr</th><th>base_SdssShape_yyErr</th><th>base_SdssShape_xyErr</th><th>base_SdssShape_x</th><th>base_SdssShape_y</th><th>base_SdssShape_instFlux</th><th>base_SdssShape_instFluxErr</th><th>base_SdssShape_psf_xx</th><th>slot_PsfShape_xx</th><th>base_SdssShape_psf_yy</th><th>slot_PsfShape_yy</th><th>base_SdssShape_psf_xy</th><th>slot_PsfShape_xy</th><th>base_SdssShape_instFlux_xx_Cov</th><th>base_SdssShape_instFlux_yy_Cov</th><th>base_SdssShape_instFlux_xy_Cov</th><th>base_SdssShape_flag</th><th>base_SdssShape_flag_unweightedBad</th><th>base_SdssShape_flag_unweighted</th><th>base_SdssShape_flag_shift</th><th>base_SdssShape_flag_maxIter</th><th>base_SdssShape_flag_psf</th><th>ext_gaap_GaapFlux_1_15x_0_7_instFlux</th><th>ext_gaap_GaapFlux_1_15x_0_7_instFluxErr</th><th>ext_gaap_GaapFlux_1_15x_1_0_instFlux</th><th>ext_gaap_GaapFlux_1_15x_1_0_instFluxErr</th><th>ext_gaap_GaapFlux_1_15x_PsfFlux_instFlux</th><th>ext_gaap_GaapFlux_1_15x_PsfFlux_instFluxErr</th><th>ext_gaap_GaapFlux_OptimalShape_xx</th><th>ext_gaap_GaapFlux_OptimalShape_yy</th><th>ext_gaap_GaapFlux_OptimalShape_xy</th><th>ext_gaap_GaapFlux_1_15x_Optimal_instFlux</th><th>ext_gaap_GaapFlux_1_15x_Optimal_instFluxErr</th><th>ext_gaap_GaapFlux_1_15x_0_7_flag_bigPsf</th><th>ext_gaap_GaapFlux_1_15x_0_7_flag</th><th>ext_gaap_GaapFlux_1_15x_1_0_flag_bigPsf</th><th>ext_gaap_GaapFlux_1_15x_1_0_flag</th><th>ext_gaap_GaapFlux_1_15x_PsfFlux_flag</th><th>ext_gaap_GaapFlux_1_15x_Optimal_flag_bigPsf</th><th>ext_gaap_GaapFlux_1_15x_Optimal_flag</th><th>ext_gaap_GaapFlux_1_15x_flag_gaussianization</th><th>ext_gaap_GaapFlux_flag_edge</th><th>ext_gaap_GaapFlux_flag</th></tr></thead>\n",
       "<thead><tr><th></th><th>rad</th><th>rad</th><th></th><th></th><th>ct</th><th>ct</th><th>ct</th><th>pix</th><th>pix</th><th>pix</th><th>pix</th><th>pix</th><th>pix</th><th>pix</th><th>pix</th><th>pix</th><th>pix</th><th>pix</th><th>pix</th><th>pix2</th><th>pix2</th><th>pix2</th><th></th><th></th><th></th><th></th><th>pix2</th><th>pix2</th><th>pix2</th><th>pix2</th><th>pix2</th><th>pix2</th><th>pix2</th><th>pix2</th><th>pix2</th><th></th><th></th><th></th><th>pix2</th><th>pix2</th><th>pix2</th><th>pix2</th><th>pix2</th><th>pix2</th><th>pix</th><th>pix</th><th>ct</th><th>ct</th><th>pix2</th><th>pix2</th><th>pix2</th><th>pix2</th><th>pix2</th><th>pix2</th><th>ct pix2</th><th>ct pix2</th><th>ct pix2</th><th></th><th></th><th></th><th></th><th></th><th></th><th>ct</th><th>ct</th><th>ct</th><th>ct</th><th>ct</th><th>ct</th><th>pix2</th><th>pix2</th><th>pix2</th><th>ct</th><th>ct</th><th></th><th></th><th></th><th></th><th></th><th></th><th></th><th></th><th></th><th></th></tr></thead>\n",
       "<thead><tr><th>int64</th><th>float64</th><th>float64</th><th>int64</th><th>int32</th><th>float64</th><th>float64</th><th>float64</th><th>float64</th><th>float64</th><th>float64</th><th>float64</th><th>float64</th><th>float64</th><th>float32</th><th>float32</th><th>float32</th><th>float32</th><th>float32</th><th>float32</th><th>float32</th><th>float32</th><th>float32</th><th>bool</th><th>bool</th><th>bool</th><th>bool</th><th>float64</th><th>float64</th><th>float64</th><th>float64</th><th>float64</th><th>float64</th><th>float64</th><th>float64</th><th>float64</th><th>bool</th><th>bool</th><th>bool</th><th>float64</th><th>float64</th><th>float64</th><th>float32</th><th>float32</th><th>float32</th><th>float64</th><th>float64</th><th>float64</th><th>float64</th><th>float64</th><th>float64</th><th>float64</th><th>float64</th><th>float64</th><th>float64</th><th>float32</th><th>float32</th><th>float32</th><th>bool</th><th>bool</th><th>bool</th><th>bool</th><th>bool</th><th>bool</th><th>float64</th><th>float64</th><th>float64</th><th>float64</th><th>float64</th><th>float64</th><th>float64</th><th>float64</th><th>float64</th><th>float64</th><th>float64</th><th>bool</th><th>bool</th><th>bool</th><th>bool</th><th>bool</th><th>bool</th><th>bool</th><th>bool</th><th>bool</th><th>bool</th></tr></thead>\n",
       "<tr><td>1</td><td>nan</td><td>nan</td><td>0</td><td>0</td><td>1000.0</td><td>1000.0</td><td>1000.0</td><td>100.0</td><td>100.0</td><td>100.0</td><td>800.0</td><td>800.0</td><td>800.0</td><td>nan</td><td>nan</td><td>nan</td><td>nan</td><td>nan</td><td>nan</td><td>-0.037866678</td><td>-0.037866678</td><td>-0.037866678</td><td>False</td><td>False</td><td>False</td><td>False</td><td>13.0</td><td>13.0</td><td>13.0</td><td>13.0</td><td>13.0</td><td>13.0</td><td>4.0</td><td>4.0</td><td>4.0</td><td>False</td><td>False</td><td>False</td><td>12.999725116641704</td><td>12.999725116641704</td><td>3.999917393392555</td><td>nan</td><td>nan</td><td>nan</td><td>100.0000009769953</td><td>800.000000410285</td><td>999.9886565039415</td><td>nan</td><td>4.0</td><td>4.0</td><td>4.0</td><td>4.0</td><td>0.0</td><td>0.0</td><td>nan</td><td>nan</td><td>nan</td><td>False</td><td>False</td><td>False</td><td>False</td><td>False</td><td>False</td><td>586.9424097320937</td><td>0.0</td><td>740.4359517013024</td><td>0.0</td><td>551.9648998592165</td><td>0.0</td><td>17.0</td><td>17.0</td><td>4.0</td><td>667.8888063005387</td><td>0.0</td><td>False</td><td>False</td><td>False</td><td>False</td><td>False</td><td>False</td><td>False</td><td>False</td><td>False</td><td>False</td></tr>\n",
       "</table>"
      ],
      "text/plain": [
       "<Table length=1>\n",
       "  id  coord_ra coord_dec ... ext_gaap_GaapFlux_flag_edge ext_gaap_GaapFlux_flag\n",
       "        rad       rad    ...                                                   \n",
       "int64 float64   float64  ...             bool                     bool         \n",
       "----- -------- --------- ... --------------------------- ----------------------\n",
       "    1      nan       nan ...                       False                  False"
      ]
     },
     "execution_count": 17,
     "metadata": {},
     "output_type": "execute_result"
    }
   ],
   "source": [
    "cat.asAstropy()"
   ]
  },
  {
   "cell_type": "code",
   "execution_count": null,
   "id": "cb7a3465",
   "metadata": {},
   "outputs": [],
   "source": []
  }
 ],
 "metadata": {
  "kernelspec": {
   "display_name": "Python 3",
   "language": "python",
   "name": "python3"
  },
  "language_info": {
   "codemirror_mode": {
    "name": "ipython",
    "version": 3
   },
   "file_extension": ".py",
   "mimetype": "text/x-python",
   "name": "python",
   "nbconvert_exporter": "python",
   "pygments_lexer": "ipython3",
   "version": "3.8.8"
  }
 },
 "nbformat": 4,
 "nbformat_minor": 5
}
