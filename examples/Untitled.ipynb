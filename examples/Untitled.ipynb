{
 "cells": [
  {
   "cell_type": "code",
   "execution_count": 1,
   "metadata": {},
   "outputs": [],
   "source": [
    "from lsst.daf.butler import Butler\n",
    "import numpy as np"
   ]
  },
  {
   "cell_type": "code",
   "execution_count": 2,
   "metadata": {},
   "outputs": [],
   "source": [
    "import matplotlib\n",
    "%matplotlib inline\n",
    "import matplotlib.pyplot as plt\n",
    "\n",
    "%config InlineBackend.print_figure_kwargs={'facecolor':\"w\"}"
   ]
  },
  {
   "cell_type": "code",
   "execution_count": 3,
   "metadata": {},
   "outputs": [],
   "source": [
    "REPO=\"/project/hsc/gen3repo/rc2w06_ssw06\"\n",
    "collection=\"u/kannawad/gaap1\""
   ]
  },
  {
   "cell_type": "code",
   "execution_count": 4,
   "metadata": {},
   "outputs": [],
   "source": [
    "butler = Butler(REPO, run=collection)"
   ]
  },
  {
   "cell_type": "code",
   "execution_count": 5,
   "metadata": {},
   "outputs": [],
   "source": [
    "dataId = {'tract': 9615, 'patch':23, 'band':'i'}"
   ]
  },
  {
   "cell_type": "code",
   "execution_count": 6,
   "metadata": {},
   "outputs": [],
   "source": [
    "meas = butler.get(\"deepCoadd_meas\", **dataId)"
   ]
  },
  {
   "cell_type": "code",
   "execution_count": 24,
   "metadata": {},
   "outputs": [],
   "source": [
    "deepCoadd = butler.get(\"deepCoadd_calexp\", **dataId)\n",
    "photoCalib = deepCoadd.getPhotoCalib()"
   ]
  },
  {
   "cell_type": "code",
   "execution_count": 8,
   "metadata": {},
   "outputs": [],
   "source": []
  },
  {
   "cell_type": "code",
   "execution_count": 9,
   "metadata": {},
   "outputs": [],
   "source": []
  },
  {
   "cell_type": "code",
   "execution_count": 10,
   "metadata": {},
   "outputs": [
    {
     "data": {
      "text/plain": [
       "269"
      ]
     },
     "execution_count": 10,
     "metadata": {},
     "output_type": "execute_result"
    }
   ],
   "source": [
    "np.isnan(meas['ext_gaap_GaapFlux_1_15x_4_0_instFlux']).sum()"
   ]
  },
  {
   "cell_type": "code",
   "execution_count": 11,
   "metadata": {},
   "outputs": [],
   "source": [
    "psfStars = meas['calib_psf_used']"
   ]
  },
  {
   "cell_type": "code",
   "execution_count": 14,
   "metadata": {},
   "outputs": [
    {
     "name": "stderr",
     "output_type": "stream",
     "text": [
      "<ipython-input-14-f11b83b57158>:3: RuntimeWarning: invalid value encountered in log10\n",
      "  logFluxRatio = -2.5*np.log10(fluxRatio)\n"
     ]
    },
    {
     "data": {
      "text/plain": [
       "<matplotlib.legend.Legend at 0x7fe034694e50>"
      ]
     },
     "execution_count": 14,
     "metadata": {},
     "output_type": "execute_result"
    },
    {
     "data": {
      "image/png": "[encoded data removed]",
      "text/plain": [
       "<Figure size 432x288 with 1 Axes>"
      ]
     },
     "metadata": {
      "needs_background": "light"
     },
     "output_type": "display_data"
    }
   ],
   "source": [
    "bins = np.linspace(-0.05, 0.05, 21)\n",
    "fluxRatio = meas['ext_gaap_GaapFlux_1_15x_4_0_instFlux']/meas['ext_gaap_GaapFlux_1_15x_5_0_instFlux']\n",
    "logFluxRatio = -2.5*np.log10(fluxRatio)\n",
    "magDiff = photoCalib.instFluxToMagnitude(meas, 'ext_gaap_GaapFlux_1_15x_4_0')[:,0]-photoCalib.instFluxToMagnitude(meas, 'ext_gaap_GaapFlux_1_15x_5_0')[:,0]\n",
    "plt.hist(logFluxRatio[psfStars], bins=bins, histtype='stepfilled',label='From flux ratios')\n",
    "plt.hist(magDiff[psfStars], bins=bins, histtype='step', label='instFluxToMagnitude')\n",
    "plt.legend()"
   ]
  },
  {
   "cell_type": "code",
   "execution_count": 15,
   "metadata": {},
   "outputs": [],
   "source": [
    "import lsst.meas.base\n",
    "import lsst.pex.config\n",
    "import lsst.afw.table\n",
    "import lsst.meas.algorithms\n",
    "import lsst.meas.deblender\n",
    "import lsst.pex.exceptions\n",
    "import lsst.meas.extensions.gaap\n",
    "from lsst.pipe.tasks.multiBand import MeasureMergedCoaddSourcesTask as measureCoaddSources"
   ]
  },
  {
   "cell_type": "code",
   "execution_count": 16,
   "metadata": {},
   "outputs": [],
   "source": [
    "from lsst.ip.diffim import modelPsfMatch"
   ]
  },
  {
   "cell_type": "code",
   "execution_count": 17,
   "metadata": {},
   "outputs": [
    {
     "data": {
      "text/plain": [
       "<module 'lsst.ip.diffim.modelPsfMatch' from '/home/kannawad/repo/ip_diffim/python/lsst/ip/diffim/modelPsfMatch.py'>"
      ]
     },
     "execution_count": 17,
     "metadata": {},
     "output_type": "execute_result"
    }
   ],
   "source": [
    "modelPsfMatch"
   ]
  },
  {
   "cell_type": "code",
   "execution_count": 18,
   "metadata": {},
   "outputs": [],
   "source": [
    "from IPython.core.debugger import set_trace"
   ]
  },
  {
   "cell_type": "code",
   "execution_count": 19,
   "metadata": {},
   "outputs": [],
   "source": [
    "schema = lsst.afw.table.SourceTable.makeMinimalSchema()\n",
    "detectConfig = lsst.meas.algorithms.SourceDetectionConfig()\n",
    "detectConfig.returnOriginalFootprints = False\n",
    "detectConfig.thresholdValue = 10\n",
    "detectTask = lsst.meas.algorithms.SourceDetectionTask(config=detectConfig, schema=schema)\n",
    "deblendTask = lsst.meas.deblender.SourceDeblendTask(schema=schema)"
   ]
  },
  {
   "cell_type": "code",
   "execution_count": 20,
   "metadata": {},
   "outputs": [],
   "source": [
    "measureConfig = lsst.meas.base.SingleFrameMeasurementConfig()\n",
    "measureConfig.plugins.names.add(\"ext_gaap_GaapFlux\")\n",
    "measureTask = lsst.meas.base.SingleFrameMeasurementTask(config=measureConfig, schema=schema)"
   ]
  },
  {
   "cell_type": "code",
   "execution_count": 23,
   "metadata": {},
   "outputs": [],
   "source": [
    "exposure = lsst.afw.image.ExposureF(\"/datasets/hsc/repo/rerun/private/kannawad/RC2/w_2020_26_GAAP/deepCoadd/HSC-I/9813/8,7.fits\") \n",
    "table = lsst.afw.table.SourceTable.make(schema)\n",
    "detectResult = detectTask.run(table, exposure)\n",
    "catalog = detectResult.sources\n",
    "deblendTask.run(exposure, catalog)"
   ]
  },
  {
   "cell_type": "code",
   "execution_count": 10,
   "metadata": {},
   "outputs": [
    {
     "data": {
      "text/plain": [
       "Schema(\n",
       "    (Field['L'](name=\"id\", doc=\"unique ID\"), Key<L>(offset=0, nElements=1)),\n",
       "    (Field['Angle'](name=\"coord_ra\", doc=\"position in ra/dec\"), Key<Angle>(offset=8, nElements=1)),\n",
       "    (Field['Angle'](name=\"coord_dec\", doc=\"position in ra/dec\"), Key<Angle>(offset=16, nElements=1)),\n",
       "    (Field['L'](name=\"parent\", doc=\"unique ID of parent source\"), Key<L>(offset=24, nElements=1)),\n",
       "    (Field['I'](name=\"deblend_nChild\", doc=\"Number of children this object has (defaults to 0)\"), Key<I>(offset=32, nElements=1)),\n",
       "    (Field['Flag'](name=\"deblend_deblendedAsPsf\", doc=\"Deblender thought this source looked like a PSF\"), Key['Flag'](offset=40, bit=0)),\n",
       "    (Field['D'](name=\"deblend_psfCenter_x\", doc=\"If deblended-as-psf, the PSF centroid\", units=\"pixel\"), Key<D>(offset=48, nElements=1)),\n",
       "    (Field['D'](name=\"deblend_psfCenter_y\", doc=\"If deblended-as-psf, the PSF centroid\", units=\"pixel\"), Key<D>(offset=56, nElements=1)),\n",
       "    (Field['D'](name=\"deblend_psf_instFlux\", doc=\"If deblended-as-psf, the instrumental PSF flux\", units=\"count\"), Key<D>(offset=64, nElements=1)),\n",
       "    (Field['Flag'](name=\"deblend_tooManyPeaks\", doc=\"Source had too many peaks; only the brightest were included\"), Key['Flag'](offset=40, bit=1)),\n",
       "    (Field['Flag'](name=\"deblend_parentTooBig\", doc=\"Parent footprint covered too many pixels\"), Key['Flag'](offset=40, bit=2)),\n",
       "    (Field['Flag'](name=\"deblend_masked\", doc=\"Parent footprint was predominantly masked\"), Key['Flag'](offset=40, bit=3)),\n",
       "    (Field['Flag'](name=\"deblend_skipped\", doc=\"Deblender skipped this source\"), Key['Flag'](offset=40, bit=4)),\n",
       "    (Field['Flag'](name=\"deblend_rampedTemplate\", doc=\"This source was near an image edge and the deblender used \"ramp\" edge-handling.\"), Key['Flag'](offset=40, bit=5)),\n",
       "    (Field['Flag'](name=\"deblend_patchedTemplate\", doc=\"This source was near an image edge and the deblender used \"patched\" edge-handling.\"), Key['Flag'](offset=40, bit=6)),\n",
       "    (Field['Flag'](name=\"deblend_hasStrayFlux\", doc=\"This source was assigned some stray flux\"), Key['Flag'](offset=40, bit=7)),\n",
       "    (Field['I'](name=\"deblend_peak_center_x\", doc=\"Center used to apply constraints in scarlet\", units=\"pixel\"), Key<I>(offset=72, nElements=1)),\n",
       "    (Field['I'](name=\"deblend_peak_center_y\", doc=\"Center used to apply constraints in scarlet\", units=\"pixel\"), Key<I>(offset=76, nElements=1)),\n",
       "    (Field['I'](name=\"deblend_peakId\", doc=\"ID of the peak in the parent footprint. This is not unique, but the combination of 'parent'and 'peakId' should be for all child sources. Top level blends with no parents have 'peakId=0'\"), Key<I>(offset=80, nElements=1)),\n",
       "    (Field['I'](name=\"deblend_nPeaks\", doc=\"Number of initial peaks in the blend. This includes peaks that may have been culled during deblending or failed to deblend\"), Key<I>(offset=84, nElements=1)),\n",
       "    (Field['I'](name=\"deblend_parentNPeaks\", doc=\"Same as deblend_n_peaks, but the number of peaks in the parent footprint\"), Key<I>(offset=88, nElements=1)),\n",
       ")"
      ]
     },
     "execution_count": 10,
     "metadata": {},
     "output_type": "execute_result"
    }
   ],
   "source": [
    "catalog.schema"
   ]
  },
  {
   "cell_type": "code",
   "execution_count": 25,
   "metadata": {},
   "outputs": [
    {
     "ename": "AssertionError",
     "evalue": "",
     "output_type": "error",
     "traceback": [
      "\u001b[0;31m---------------------------------------------------------------------------\u001b[0m",
      "\u001b[0;31mAssertionError\u001b[0m                            Traceback (most recent call last)",
      "\u001b[0;32m<ipython-input-25-fd17337eba54>\u001b[0m in \u001b[0;36m<module>\u001b[0;34m\u001b[0m\n\u001b[0;32m----> 1\u001b[0;31m \u001b[0mmeasureTask\u001b[0m\u001b[0;34m.\u001b[0m\u001b[0mrun\u001b[0m\u001b[0;34m(\u001b[0m\u001b[0mmeas\u001b[0m\u001b[0;34m,\u001b[0m \u001b[0mdeepCoadd\u001b[0m\u001b[0;34m)\u001b[0m\u001b[0;34m\u001b[0m\u001b[0;34m\u001b[0m\u001b[0m\n\u001b[0m",
      "\u001b[0;32m/software/lsstsw/stack_20210211/stack/miniconda3-py38_4.9.2-0.4.1/Linux64/pipe_base/21.0.0-10-g560fb7b+901427974f/python/lsst/pipe/base/timer.py\u001b[0m in \u001b[0;36mwrapper\u001b[0;34m(self, *args, **keyArgs)\u001b[0m\n\u001b[1;32m    155\u001b[0m         \u001b[0mlogInfo\u001b[0m\u001b[0;34m(\u001b[0m\u001b[0mobj\u001b[0m\u001b[0;34m=\u001b[0m\u001b[0mself\u001b[0m\u001b[0;34m,\u001b[0m \u001b[0mprefix\u001b[0m\u001b[0;34m=\u001b[0m\u001b[0mfunc\u001b[0m\u001b[0;34m.\u001b[0m\u001b[0m__name__\u001b[0m \u001b[0;34m+\u001b[0m \u001b[0;34m\"Start\"\u001b[0m\u001b[0;34m)\u001b[0m\u001b[0;34m\u001b[0m\u001b[0;34m\u001b[0m\u001b[0m\n\u001b[1;32m    156\u001b[0m         \u001b[0;32mtry\u001b[0m\u001b[0;34m:\u001b[0m\u001b[0;34m\u001b[0m\u001b[0;34m\u001b[0m\u001b[0m\n\u001b[0;32m--> 157\u001b[0;31m             \u001b[0mres\u001b[0m \u001b[0;34m=\u001b[0m \u001b[0mfunc\u001b[0m\u001b[0;34m(\u001b[0m\u001b[0mself\u001b[0m\u001b[0;34m,\u001b[0m \u001b[0;34m*\u001b[0m\u001b[0margs\u001b[0m\u001b[0;34m,\u001b[0m \u001b[0;34m**\u001b[0m\u001b[0mkeyArgs\u001b[0m\u001b[0;34m)\u001b[0m\u001b[0;34m\u001b[0m\u001b[0;34m\u001b[0m\u001b[0m\n\u001b[0m\u001b[1;32m    158\u001b[0m         \u001b[0;32mfinally\u001b[0m\u001b[0;34m:\u001b[0m\u001b[0;34m\u001b[0m\u001b[0;34m\u001b[0m\u001b[0m\n\u001b[1;32m    159\u001b[0m             \u001b[0mlogInfo\u001b[0m\u001b[0;34m(\u001b[0m\u001b[0mobj\u001b[0m\u001b[0;34m=\u001b[0m\u001b[0mself\u001b[0m\u001b[0;34m,\u001b[0m \u001b[0mprefix\u001b[0m\u001b[0;34m=\u001b[0m\u001b[0mfunc\u001b[0m\u001b[0;34m.\u001b[0m\u001b[0m__name__\u001b[0m \u001b[0;34m+\u001b[0m \u001b[0;34m\"End\"\u001b[0m\u001b[0;34m)\u001b[0m\u001b[0;34m\u001b[0m\u001b[0;34m\u001b[0m\u001b[0m\n",
      "\u001b[0;32m/software/lsstsw/stack_20210211/stack/miniconda3-py38_4.9.2-0.4.1/Linux64/meas_base/21.0.0-7-g04766d7+e1a0bd85dc/python/lsst/meas/base/sfm.py\u001b[0m in \u001b[0;36mrun\u001b[0;34m(self, measCat, exposure, noiseImage, exposureId, beginOrder, endOrder)\u001b[0m\n\u001b[1;32m    233\u001b[0m             \u001b[0mlimit\u001b[0m\u001b[0;34m.\u001b[0m\u001b[0;34m\u001b[0m\u001b[0;34m\u001b[0m\u001b[0m\n\u001b[1;32m    234\u001b[0m         \"\"\"\n\u001b[0;32m--> 235\u001b[0;31m         \u001b[0;32massert\u001b[0m \u001b[0mmeasCat\u001b[0m\u001b[0;34m.\u001b[0m\u001b[0mgetSchema\u001b[0m\u001b[0;34m(\u001b[0m\u001b[0;34m)\u001b[0m\u001b[0;34m.\u001b[0m\u001b[0mcontains\u001b[0m\u001b[0;34m(\u001b[0m\u001b[0mself\u001b[0m\u001b[0;34m.\u001b[0m\u001b[0mschema\u001b[0m\u001b[0;34m)\u001b[0m\u001b[0;34m\u001b[0m\u001b[0;34m\u001b[0m\u001b[0m\n\u001b[0m\u001b[1;32m    236\u001b[0m         footprints = {measRecord.getId(): (measRecord.getParent(), measRecord.getFootprint())\n\u001b[1;32m    237\u001b[0m                       for measRecord in measCat}\n",
      "\u001b[0;31mAssertionError\u001b[0m: "
     ]
    }
   ],
   "source": [
    "measureTask.run(meas, deepCoadd)"
   ]
  },
  {
   "cell_type": "code",
   "execution_count": 6,
   "metadata": {},
   "outputs": [
    {
     "data": {
      "text/plain": [
       "array([nan, nan, nan, ..., nan, nan, nan])"
      ]
     },
     "execution_count": 6,
     "metadata": {},
     "output_type": "execute_result"
    }
   ],
   "source": [
    "catalog['ext_gaap_GaapFlux_1_15x_4_0_instFlux']"
   ]
  },
  {
   "cell_type": "code",
   "execution_count": 26,
   "metadata": {},
   "outputs": [],
   "source": [
    "gaapConfig = lsst.meas.extensions.gaap.GaapFluxConfig()\n",
    "gaapPlugin = lsst.meas.extensions.gaap.GaapFluxPlugin(gaapConfig, 'ext_testGaap_GaapFlux', schema, None)"
   ]
  },
  {
   "cell_type": "code",
   "execution_count": 36,
   "metadata": {},
   "outputs": [],
   "source": [
    "recordId = 0\n",
    "record = meas[recordId]\n",
    "center = lsst.geom.Point2D(record['base_SdssShape_x'], record['base_SdssShape_y'])"
   ]
  },
  {
   "cell_type": "code",
   "execution_count": 37,
   "metadata": {},
   "outputs": [
    {
     "ename": "KeyError",
     "evalue": "\"Field with name 'ext_testGaap_GaapFlux_1_15x_4_0_instFlux' not found\"",
     "output_type": "error",
     "traceback": [
      "\u001b[0;31m---------------------------------------------------------------------------\u001b[0m",
      "\u001b[0;31mKeyError\u001b[0m                                  Traceback (most recent call last)",
      "\u001b[0;32m<ipython-input-37-d4f8edcd6dcb>\u001b[0m in \u001b[0;36m<module>\u001b[0;34m\u001b[0m\n\u001b[0;32m----> 1\u001b[0;31m \u001b[0mgaapPlugin\u001b[0m\u001b[0;34m.\u001b[0m\u001b[0m_generic\u001b[0m\u001b[0;34m.\u001b[0m\u001b[0mmeasure\u001b[0m\u001b[0;34m(\u001b[0m\u001b[0mrecord\u001b[0m\u001b[0;34m,\u001b[0m \u001b[0mdeepCoadd\u001b[0m\u001b[0;34m,\u001b[0m \u001b[0mcenter\u001b[0m\u001b[0;34m)\u001b[0m\u001b[0;34m\u001b[0m\u001b[0;34m\u001b[0m\u001b[0m\n\u001b[0m",
      "\u001b[0;32m~/repo/meas_extensions_gaap/python/lsst/meas/extensions/gaap/_gaap.py\u001b[0m in \u001b[0;36mmeasure\u001b[0;34m(self, measRecord, exposure, center)\u001b[0m\n\u001b[1;32m    310\u001b[0m                 \u001b[0minstFluxKey\u001b[0m \u001b[0;34m=\u001b[0m \u001b[0mmeasRecord\u001b[0m\u001b[0;34m.\u001b[0m\u001b[0mschema\u001b[0m\u001b[0;34m.\u001b[0m\u001b[0mjoin\u001b[0m\u001b[0;34m(\u001b[0m\u001b[0mbaseName\u001b[0m\u001b[0;34m,\u001b[0m \u001b[0;34m\"instFlux\"\u001b[0m\u001b[0;34m)\u001b[0m\u001b[0;34m\u001b[0m\u001b[0;34m\u001b[0m\u001b[0m\n\u001b[1;32m    311\u001b[0m                 \u001b[0minstFluxErrKey\u001b[0m \u001b[0;34m=\u001b[0m \u001b[0mmeasRecord\u001b[0m\u001b[0;34m.\u001b[0m\u001b[0mschema\u001b[0m\u001b[0;34m.\u001b[0m\u001b[0mjoin\u001b[0m\u001b[0;34m(\u001b[0m\u001b[0mbaseName\u001b[0m\u001b[0;34m,\u001b[0m \u001b[0;34m\"instFluxErr\"\u001b[0m\u001b[0;34m)\u001b[0m\u001b[0;34m\u001b[0m\u001b[0;34m\u001b[0m\u001b[0m\n\u001b[0;32m--> 312\u001b[0;31m                 \u001b[0mmeasRecord\u001b[0m\u001b[0;34m.\u001b[0m\u001b[0mset\u001b[0m\u001b[0;34m(\u001b[0m\u001b[0minstFluxKey\u001b[0m\u001b[0;34m,\u001b[0m \u001b[0mfluxScaling\u001b[0m\u001b[0;34m*\u001b[0m\u001b[0mfluxResult\u001b[0m\u001b[0;34m.\u001b[0m\u001b[0minstFlux\u001b[0m\u001b[0;34m)\u001b[0m\u001b[0;34m\u001b[0m\u001b[0;34m\u001b[0m\u001b[0m\n\u001b[0m\u001b[1;32m    313\u001b[0m                 \u001b[0mmeasRecord\u001b[0m\u001b[0;34m.\u001b[0m\u001b[0mset\u001b[0m\u001b[0;34m(\u001b[0m\u001b[0minstFluxErrKey\u001b[0m\u001b[0;34m,\u001b[0m \u001b[0mfluxScaling\u001b[0m\u001b[0;34m*\u001b[0m\u001b[0mfluxResult\u001b[0m\u001b[0;34m.\u001b[0m\u001b[0minstFluxErr\u001b[0m\u001b[0;34m)\u001b[0m\u001b[0;34m\u001b[0m\u001b[0;34m\u001b[0m\u001b[0m\n\u001b[1;32m    314\u001b[0m \u001b[0;34m\u001b[0m\u001b[0m\n",
      "\u001b[0;31mKeyError\u001b[0m: \"Field with name 'ext_testGaap_GaapFlux_1_15x_4_0_instFlux' not found\""
     ]
    }
   ],
   "source": [
    "gaapPlugin._generic.measure(record, deepCoadd, center)"
   ]
  },
  {
   "cell_type": "code",
   "execution_count": 35,
   "metadata": {},
   "outputs": [
    {
     "data": {
      "text/plain": [
       "array([ 2.39540618,         nan,         nan, ...,  0.22339749,\n",
       "       -0.09745065,  1.01069646])"
      ]
     },
     "execution_count": 35,
     "metadata": {},
     "output_type": "execute_result"
    }
   ],
   "source": [
    "meas['ext_gaap_GaapFlux_1_15x_5_0_instFlux']"
   ]
  },
  {
   "cell_type": "code",
   "execution_count": null,
   "metadata": {},
   "outputs": [],
   "source": []
  }
 ],
 "metadata": {
  "kernelspec": {
   "display_name": "Python 3",
   "language": "python",
   "name": "python3"
  },
  "language_info": {
   "codemirror_mode": {
    "name": "ipython",
    "version": 3
   },
   "file_extension": ".py",
   "mimetype": "text/x-python",
   "name": "python",
   "nbconvert_exporter": "python",
   "pygments_lexer": "ipython3",
   "version": "3.8.8"
  }
 },
 "nbformat": 4,
 "nbformat_minor": 4
}
