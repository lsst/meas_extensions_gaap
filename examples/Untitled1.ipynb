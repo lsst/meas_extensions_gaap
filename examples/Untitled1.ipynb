{
 "cells": [
  {
   "cell_type": "code",
   "execution_count": 1,
   "id": "latest-import",
   "metadata": {},
   "outputs": [],
   "source": [
    "import lsst.daf.butler as dafButler"
   ]
  },
  {
   "cell_type": "code",
   "execution_count": 3,
   "id": "configured-slide",
   "metadata": {},
   "outputs": [],
   "source": [
    "butler = dafButler.Butler(\"/repo/main\", collections=\"HSC/runs/RC2/w_2021_14/DM-29670\")"
   ]
  },
  {
   "cell_type": "code",
   "execution_count": 8,
   "id": "accessible-general",
   "metadata": {},
   "outputs": [],
   "source": [
    "dataId = {'tract':9813, 'patch':31, 'band':'r', 'skymap':'hsc_rings_v1'}"
   ]
  },
  {
   "cell_type": "code",
   "execution_count": 9,
   "id": "different-chicago",
   "metadata": {},
   "outputs": [],
   "source": [
    "deepCoadd_meas = butler.get(\"deepCoadd_meas\", **dataId)\n",
    "deepCoadd_ref = butler.get(\"deepCoadd_ref\", **dataId)"
   ]
  },
  {
   "cell_type": "code",
   "execution_count": 7,
   "id": "harmful-first",
   "metadata": {},
   "outputs": [
    {
     "data": {
      "text/plain": [
       "<class 'lsst.afw.table.SourceCatalog'>\n",
       "         id              coord_ra      ... base_FootprintArea_value\n",
       "                           rad         ...           pix           \n",
       "------------------- ------------------ ... ------------------------\n",
       "3495936802932391937 2.6240203043874373 ...                      104\n",
       "3495936802932391938  2.623915991397528 ...                      534\n",
       "3495936802932391939 2.6238149381554328 ...                      176\n",
       "3495936802932391940  2.623792934622796 ...                      248\n",
       "3495936802932391941  2.623666827985933 ...                     1837\n",
       "3495936802932391942 2.6236535788838804 ...                       84\n",
       "3495936802932391943 2.6234286537247584 ...                      131\n",
       "3495936802932391944  2.623409910336144 ...                      447\n",
       "3495936802932391945 2.6233707925234877 ...                      203\n",
       "3495936802932391946 2.6232281768573498 ...                      672\n",
       "                ...                ... ...                      ...\n",
       "3495936802932429647 2.6232790023031227 ...                      156\n",
       "3495936802932429648  2.622974950137015 ...                      121\n",
       "3495936802932429649  2.621184462539211 ...                      182\n",
       "3495936802932429650  2.622350498490803 ...                      169\n",
       "3495936802932429651  2.623450252528949 ...                      144\n",
       "3495936802932429652 2.6215388556044417 ...                      210\n",
       "3495936802932429653 2.6226303804528377 ...                      132\n",
       "3495936802932429654 2.6231726700397213 ...                      144\n",
       "3495936802932429655  2.623362845792705 ...                      132\n",
       "3495936802932429656 2.6233790825418652 ...                      180\n",
       "Length = 37720 rows"
      ]
     },
     "execution_count": 7,
     "metadata": {},
     "output_type": "execute_result"
    }
   ],
   "source": [
    "deepCoadd_meas"
   ]
  },
  {
   "cell_type": "code",
   "execution_count": 13,
   "id": "younger-dividend",
   "metadata": {},
   "outputs": [],
   "source": [
    "nSuccess = 0\n",
    "for rec in deepCoadd_meas:\n",
    "    idx = rec.getId()\n",
    "    if deepCoadd_meas.find(idx):\n",
    "        nSuccess += 1"
   ]
  },
  {
   "cell_type": "code",
   "execution_count": 14,
   "id": "outstanding-claim",
   "metadata": {},
   "outputs": [
    {
     "data": {
      "text/plain": [
       "37324"
      ]
     },
     "execution_count": 14,
     "metadata": {},
     "output_type": "execute_result"
    }
   ],
   "source": [
    "nSuccess"
   ]
  },
  {
   "cell_type": "code",
   "execution_count": 15,
   "id": "victorian-toilet",
   "metadata": {},
   "outputs": [],
   "source": [
    "sorted_meas = deepCoadd_meas.copy(deep=True)\n",
    "sorted_meas.sort()"
   ]
  },
  {
   "cell_type": "code",
   "execution_count": 16,
   "id": "isolated-shape",
   "metadata": {},
   "outputs": [],
   "source": [
    "nSuccess = 0\n",
    "for rec in sorted_meas:\n",
    "    idx = rec.getId()\n",
    "    if sorted_meas.find(idx):\n",
    "        nSuccess += 1"
   ]
  },
  {
   "cell_type": "code",
   "execution_count": 17,
   "id": "colonial-albany",
   "metadata": {},
   "outputs": [
    {
     "data": {
      "text/plain": [
       "37720"
      ]
     },
     "execution_count": 17,
     "metadata": {},
     "output_type": "execute_result"
    }
   ],
   "source": [
    "nSuccess"
   ]
  },
  {
   "cell_type": "code",
   "execution_count": null,
   "id": "removable-allen",
   "metadata": {},
   "outputs": [],
   "source": []
  }
 ],
 "metadata": {
  "kernelspec": {
   "display_name": "Python 3",
   "language": "python",
   "name": "python3"
  },
  "language_info": {
   "codemirror_mode": {
    "name": "ipython",
    "version": 3
   },
   "file_extension": ".py",
   "mimetype": "text/x-python",
   "name": "python",
   "nbconvert_exporter": "python",
   "pygments_lexer": "ipython3",
   "version": "3.8.6"
  }
 },
 "nbformat": 4,
 "nbformat_minor": 5
}
