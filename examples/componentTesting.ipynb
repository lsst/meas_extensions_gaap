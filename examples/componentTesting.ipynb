{
 "cells": [
  {
   "cell_type": "code",
   "execution_count": 1,
   "id": "complicated-costs",
   "metadata": {},
   "outputs": [],
   "source": [
    "import lsst.meas.extensions.gaap\n",
    "import lsst.afw.table as afwTable\n",
    "import lsst.afw.detection as afwDetection\n",
    "import lsst.afw.geom as afwGeom\n",
    "import lsst.meas.base as measBase\n",
    "from lsst.ip.diffim import ModelPsfMatchTask\n",
    "import galsim\n",
    "import sys\n",
    "sys.path.append('/home/kannawad/repo/meas_extensions_gaap/tests/')\n",
    "from test_gaap import GaapFluxTestCase"
   ]
  },
  {
   "cell_type": "code",
   "execution_count": 8,
   "id": "liked-wyoming",
   "metadata": {},
   "outputs": [
    {
     "ename": "NameError",
     "evalue": "name 'exposure' is not defined",
     "output_type": "error",
     "traceback": [
      "\u001b[0;31m---------------------------------------------------------------------------\u001b[0m",
      "\u001b[0;31mNameError\u001b[0m                                 Traceback (most recent call last)",
      "\u001b[0;32m<ipython-input-8-80a0de508d37>\u001b[0m in \u001b[0;36m<module>\u001b[0;34m\u001b[0m\n\u001b[1;32m      5\u001b[0m \u001b[0mrecord\u001b[0m \u001b[0;34m=\u001b[0m \u001b[0mcat\u001b[0m\u001b[0;34m.\u001b[0m\u001b[0maddNew\u001b[0m\u001b[0;34m(\u001b[0m\u001b[0;34m)\u001b[0m\u001b[0;34m\u001b[0m\u001b[0;34m\u001b[0m\u001b[0m\n\u001b[1;32m      6\u001b[0m \u001b[0mgaapPlugin\u001b[0m \u001b[0;34m=\u001b[0m \u001b[0mlsst\u001b[0m\u001b[0;34m.\u001b[0m\u001b[0mmeas\u001b[0m\u001b[0;34m.\u001b[0m\u001b[0mextensions\u001b[0m\u001b[0;34m.\u001b[0m\u001b[0mgaap\u001b[0m\u001b[0;34m.\u001b[0m\u001b[0mGaapFluxPlugin\u001b[0m\u001b[0;34m(\u001b[0m\u001b[0mgaapConfig\u001b[0m\u001b[0;34m,\u001b[0m \u001b[0;34m'ext_testGaap_GaapFlux'\u001b[0m\u001b[0;34m,\u001b[0m \u001b[0mschema\u001b[0m\u001b[0;34m,\u001b[0m \u001b[0;32mNone\u001b[0m\u001b[0;34m)\u001b[0m\u001b[0;34m\u001b[0m\u001b[0;34m\u001b[0m\u001b[0m\n\u001b[0;32m----> 7\u001b[0;31m \u001b[0mseeing\u001b[0m \u001b[0;34m=\u001b[0m \u001b[0mexposure\u001b[0m\u001b[0;34m.\u001b[0m\u001b[0mgetPsf\u001b[0m\u001b[0;34m(\u001b[0m\u001b[0;34m)\u001b[0m\u001b[0;34m.\u001b[0m\u001b[0mgetSigma\u001b[0m\u001b[0;34m(\u001b[0m\u001b[0;34m)\u001b[0m\u001b[0;34m\u001b[0m\u001b[0;34m\u001b[0m\u001b[0m\n\u001b[0m\u001b[1;32m      8\u001b[0m \u001b[0msF\u001b[0m \u001b[0;34m=\u001b[0m \u001b[0;36m1.15\u001b[0m\u001b[0;34m\u001b[0m\u001b[0;34m\u001b[0m\u001b[0m\n",
      "\u001b[0;31mNameError\u001b[0m: name 'exposure' is not defined"
     ]
    }
   ],
   "source": [
    "gaapConfig = lsst.meas.extensions.gaap.GaapFluxConfig()\n",
    "gaapConfig.scaleByFwhm = True\n",
    "schema = afwTable.SourceTable.makeMinimalSchema()\n",
    "cat = afwTable.SourceCatalog(schema)\n",
    "record = cat.addNew()\n",
    "gaapPlugin = lsst.meas.extensions.gaap.GaapFluxPlugin(gaapConfig, 'ext_testGaap_GaapFlux', schema, None)\n",
    "seeing = exposure.getPsf().getSigma()\n",
    "sF = 1.15"
   ]
  },
  {
   "cell_type": "code",
   "execution_count": 46,
   "id": "wrapped-dubai",
   "metadata": {},
   "outputs": [
    {
     "ename": "GaapConvolutionError",
     "evalue": "Problematic scaling factors = 1.15 Errors: AttributeError(\"'NoneType' object has no attribute 'getBBox'\")",
     "output_type": "error",
     "traceback": [
      "\u001b[0;31m---------------------------------------------------------------------------\u001b[0m",
      "\u001b[0;31mGaapConvolutionError\u001b[0m                      Traceback (most recent call last)",
      "\u001b[0;32m<ipython-input-46-9e780d82d3a7>\u001b[0m in \u001b[0;36m<module>\u001b[0;34m\u001b[0m\n\u001b[0;32m----> 1\u001b[0;31m \u001b[0mgaapPlugin\u001b[0m\u001b[0;34m.\u001b[0m\u001b[0m_generic\u001b[0m\u001b[0;34m.\u001b[0m\u001b[0mmeasure\u001b[0m\u001b[0;34m(\u001b[0m\u001b[0mrecord\u001b[0m\u001b[0;34m,\u001b[0m \u001b[0mexposure\u001b[0m\u001b[0;34m,\u001b[0m \u001b[0mexposure\u001b[0m\u001b[0;34m.\u001b[0m\u001b[0mgetBBox\u001b[0m\u001b[0;34m(\u001b[0m\u001b[0;34m)\u001b[0m\u001b[0;34m.\u001b[0m\u001b[0mgetCenter\u001b[0m\u001b[0;34m(\u001b[0m\u001b[0;34m)\u001b[0m\u001b[0;34m)\u001b[0m\u001b[0;34m\u001b[0m\u001b[0;34m\u001b[0m\u001b[0m\n\u001b[0m",
      "\u001b[0;32m~/repo/meas_extensions_gaap/python/lsst/meas/extensions/gaap/_gaap.py\u001b[0m in \u001b[0;36mmeasure\u001b[0;34m(self, measRecord, exposure, center)\u001b[0m\n\u001b[1;32m    342\u001b[0m         \u001b[0;31m# if the collection of errors is not empty\u001b[0m\u001b[0;34m\u001b[0m\u001b[0;34m\u001b[0m\u001b[0;34m\u001b[0m\u001b[0m\n\u001b[1;32m    343\u001b[0m         \u001b[0;32mif\u001b[0m \u001b[0merrorCollection\u001b[0m\u001b[0;34m:\u001b[0m\u001b[0;34m\u001b[0m\u001b[0;34m\u001b[0m\u001b[0m\n\u001b[0;32m--> 344\u001b[0;31m             \u001b[0;32mraise\u001b[0m \u001b[0mGaapConvolutionError\u001b[0m\u001b[0;34m(\u001b[0m\u001b[0merrorCollection\u001b[0m\u001b[0;34m)\u001b[0m\u001b[0;34m\u001b[0m\u001b[0;34m\u001b[0m\u001b[0m\n\u001b[0m\u001b[1;32m    345\u001b[0m \u001b[0;34m\u001b[0m\u001b[0m\n\u001b[1;32m    346\u001b[0m \u001b[0;34m\u001b[0m\u001b[0m\n",
      "\u001b[0;31mGaapConvolutionError\u001b[0m: Problematic scaling factors = 1.15 Errors: AttributeError(\"'NoneType' object has no attribute 'getBBox'\")"
     ]
    }
   ],
   "source": [
    "gaapPlugin._generic.measure(record, exposure, exposure.getBBox().getCenter())"
   ]
  },
  {
   "cell_type": "code",
   "execution_count": 9,
   "id": "apart-gnome",
   "metadata": {},
   "outputs": [],
   "source": [
    "testCase = lsst.utils.tests.TestCase()"
   ]
  },
  {
   "cell_type": "code",
   "execution_count": 52,
   "id": "forty-pizza",
   "metadata": {},
   "outputs": [],
   "source": []
  },
  {
   "cell_type": "code",
   "execution_count": 5,
   "id": "thrown-divorce",
   "metadata": {},
   "outputs": [
    {
     "name": "stdout",
     "output_type": "stream",
     "text": [
      "999.9011269199837 1.0 999.9011269199837\n"
     ]
    }
   ],
   "source": [
    "testCase = GaapFluxTestCase()\n",
    "algorithm, schema = testCase.makeAlgorithm(gaapConfig)\n",
    "testCase.setUp()\n",
    "exposure, catalog = testCase.dataset.realize(noise=0, schema=schema)\n",
    "record = catalog[0]\n",
    "#algorithm.measure(record, exposure)\n",
    "\n",
    "seeing = exposure.getPsf().getSigma()\n",
    "sF = 1.15\n",
    "sigma = (2**0.5)*sF*seeing\n",
    "targetSigma = sF*seeing\n",
    "targetPsf = afwDetection.GaussianPsf(65, 65, targetSigma)\n",
    "result, bbox = algorithm._generic.convolve(exposure, targetPsf, record)\n",
    "convolved = result.psfMatchedExposure[bbox]\n",
    "\n",
    "center = bbox.getCenter()\n",
    "aperSigma2 = sigma**2 - targetSigma**2\n",
    "aperShape = afwGeom.Quadrupole(aperSigma2, aperSigma2, 0.0)\n",
    "fluxResult = measBase.SdssShapeAlgorithm.computeFixedMomentsFlux(convolved.getMaskedImage(), aperShape, center)\n",
    "fluxScaling = 0.5*sigma**2/aperSigma2\n",
    "print(fluxResult.instFlux, fluxScaling, fluxResult.instFlux*fluxScaling)"
   ]
  },
  {
   "cell_type": "code",
   "execution_count": 6,
   "id": "residential-married",
   "metadata": {},
   "outputs": [
    {
     "data": {
      "text/plain": [
       "galsim.hsm.ShapeData(image_bounds=galsim.BoundsI(xmin=1, xmax=240, ymin=1, ymax=1600), moments_status=0, observed_shape=galsim.Shear((2.7755575615628914e-16-5.12247186678009e-18j)), moments_sigma=2.0, moments_amp=1000.0, moments_centroid=galsim.PositionD(x=121.0, y=801.0), moments_rho4=1.9999999952057053, moments_n_iter=11, correction_status=-10)"
      ]
     },
     "execution_count": 6,
     "metadata": {},
     "output_type": "execute_result"
    }
   ],
   "source": [
    "galsim.hsm.FindAdaptiveMom(galsim.Image(exposure.image.array))"
   ]
  },
  {
   "cell_type": "code",
   "execution_count": 7,
   "id": "looking-paint",
   "metadata": {},
   "outputs": [
    {
     "data": {
      "text/plain": [
       "array([[ 0.03333214,  0.09427542,  0.22071725,  0.42773694,  0.6861514 ,\n",
       "         0.91109943,  1.0014157 ,  0.9110995 ,  0.6861513 ,  0.42773694,\n",
       "         0.22071725,  0.09427541,  0.03333214],\n",
       "       [ 0.09427542,  0.2666449 ,  0.6242677 ,  1.2097934 ,  1.9406822 ,\n",
       "         2.5769157 ,  2.8323627 ,  2.576916  ,  1.940682  ,  1.2097933 ,\n",
       "         0.6242677 ,  0.26664487,  0.09427543],\n",
       "       [ 0.22071725,  0.62426764,  1.4615322 ,  2.8323617 ,  4.543514  ,\n",
       "         6.033061  ,  6.631112  ,  6.0330615 ,  4.543514  ,  2.8323617 ,\n",
       "         1.4615322 ,  0.62426764,  0.22071727],\n",
       "       [ 0.4277369 ,  1.2097936 ,  2.8323622 ,  5.488948  ,  8.805059  ,\n",
       "        11.691712  , 12.850699  , 11.691713  ,  8.805059  ,  5.488948  ,\n",
       "         2.8323622 ,  1.2097936 ,  0.42773697],\n",
       "       [ 0.6861514 ,  1.9406822 ,  4.5435147 ,  8.805058  , 14.124577  ,\n",
       "        18.75518   , 20.614365  , 18.75518   , 14.124577  ,  8.805058  ,\n",
       "         4.5435147 ,  1.9406823 ,  0.6861514 ],\n",
       "       [ 0.91109943,  2.576916  ,  6.033062  , 11.691711  , 18.755182  ,\n",
       "        24.903889  , 27.372583  , 24.903887  , 18.75518   , 11.691712  ,\n",
       "         6.0330615 ,  2.5769157 ,  0.9110996 ],\n",
       "       [ 1.0014157 ,  2.832363  ,  6.6311126 , 12.850699  , 20.614367  ,\n",
       "        27.372585  , 30.085997  , 27.372585  , 20.614367  , 12.850699  ,\n",
       "         6.6311126 ,  2.832363  ,  1.0014157 ],\n",
       "       [ 0.91109955,  2.5769162 ,  6.0330615 , 11.691713  , 18.755184  ,\n",
       "        24.90389   , 27.372581  , 24.90389   , 18.75518   , 11.691713  ,\n",
       "         6.033061  ,  2.5769162 ,  0.9110996 ],\n",
       "       [ 0.6861514 ,  1.9406819 ,  4.5435147 ,  8.805059  , 14.1245775 ,\n",
       "        18.755184  , 20.614363  , 18.755184  , 14.124577  ,  8.805059  ,\n",
       "         4.5435147 ,  1.9406822 ,  0.6861514 ],\n",
       "       [ 0.42773694,  1.2097934 ,  2.832362  ,  5.488948  ,  8.8050585 ,\n",
       "        11.691713  , 12.850699  , 11.691713  ,  8.805058  ,  5.4889483 ,\n",
       "         2.8323617 ,  1.2097934 ,  0.42773697],\n",
       "       [ 0.22071722,  0.62426764,  1.4615322 ,  2.832362  ,  4.543514  ,\n",
       "         6.0330615 ,  6.6311116 ,  6.033062  ,  4.543514  ,  2.832362  ,\n",
       "         1.4615321 ,  0.62426764,  0.22071725],\n",
       "       [ 0.09427541,  0.2666449 ,  0.6242677 ,  1.2097936 ,  1.9406822 ,\n",
       "         2.5769157 ,  2.8323627 ,  2.576916  ,  1.940682  ,  1.2097936 ,\n",
       "         0.6242677 ,  0.26664487,  0.09427542],\n",
       "       [ 0.03333214,  0.09427543,  0.22071725,  0.42773688,  0.68615144,\n",
       "         0.9110994 ,  1.0014158 ,  0.91109943,  0.68615144,  0.42773694,\n",
       "         0.22071725,  0.09427543,  0.03333214]], dtype=float32)"
      ]
     },
     "execution_count": 7,
     "metadata": {},
     "output_type": "execute_result"
    }
   ],
   "source": [
    "result.psfMatchedExposure.image.array[10:-10,10:-10]"
   ]
  },
  {
   "cell_type": "code",
   "execution_count": 8,
   "id": "atlantic-contact",
   "metadata": {},
   "outputs": [
    {
     "data": {
      "text/plain": [
       "galsim.hsm.ShapeData(image_bounds=galsim.BoundsI(xmin=1, xmax=13, ymin=1, ymax=13), moments_status=0, observed_shape=galsim.Shear((9.614146811998127e-09-4.398987840659175e-09j)), moments_sigma=2.297983169555664, moments_amp=999.0247192382812, moments_centroid=galsim.PositionD(x=6.999999963805932, y=7.000000057522636), moments_rho4=1.9939034232790758, moments_n_iter=12, correction_status=-10)"
      ]
     },
     "execution_count": 8,
     "metadata": {},
     "output_type": "execute_result"
    }
   ],
   "source": [
    "galsim.hsm.FindAdaptiveMom(galsim.Image(result.psfMatchedExposure[bbox].image.array))"
   ]
  },
  {
   "cell_type": "code",
   "execution_count": 9,
   "id": "restricted-genealogy",
   "metadata": {},
   "outputs": [],
   "source": [
    "gaapConfig = lsst.meas.extensions.gaap.GaapFluxConfig()\n",
    "gaapConfig.modelPsfMatch.kernel.active.alardDegGauss = [0]\n",
    "gaapConfig.scaleByFwhm = True\n",
    "gaapConfig.modelPsfMatch.kernel.active.alardGaussBeta = (sigma**2-targetSigma**2)**0.5"
   ]
  },
  {
   "cell_type": "code",
   "execution_count": 10,
   "id": "cosmetic-selection",
   "metadata": {},
   "outputs": [],
   "source": [
    "import lsst.daf.butler as dafButler"
   ]
  },
  {
   "cell_type": "code",
   "execution_count": 11,
   "id": "indonesian-slovak",
   "metadata": {},
   "outputs": [],
   "source": [
    "butler = dafButler.Butler('/repo/main', collections='HSC/runs/RC2/w_2021_14/DM-29670', instrument='HSC')"
   ]
  },
  {
   "cell_type": "code",
   "execution_count": 12,
   "id": "mysterious-pantyhose",
   "metadata": {},
   "outputs": [
    {
     "data": {
      "text/plain": [
       "<lsst.afw.image.exposure.ExposureF at 0x7f3b24692fb0>"
      ]
     },
     "execution_count": 12,
     "metadata": {},
     "output_type": "execute_result"
    }
   ],
   "source": [
    "butler.get('deepCoadd', {'tract':9615, 'patch':54, 'band':'r'})"
   ]
  },
  {
   "cell_type": "code",
   "execution_count": 36,
   "id": "revised-baghdad",
   "metadata": {},
   "outputs": [],
   "source": [
    "from scipy.optimize import curve_fit"
   ]
  },
  {
   "cell_type": "code",
   "execution_count": 37,
   "id": "detailed-literacy",
   "metadata": {},
   "outputs": [],
   "source": [
    "curve_fit?"
   ]
  },
  {
   "cell_type": "code",
   "execution_count": 38,
   "id": "strong-angola",
   "metadata": {},
   "outputs": [],
   "source": [
    "testCase.dataset.realize?"
   ]
  },
  {
   "cell_type": "code",
   "execution_count": 2,
   "id": "particular-democrat",
   "metadata": {},
   "outputs": [
    {
     "ename": "NameError",
     "evalue": "name 'schema' is not defined",
     "output_type": "error",
     "traceback": [
      "\u001b[0;31m---------------------------------------------------------------------------\u001b[0m",
      "\u001b[0;31mNameError\u001b[0m                                 Traceback (most recent call last)",
      "\u001b[0;32m<ipython-input-2-f0119b4dbf1d>\u001b[0m in \u001b[0;36m<module>\u001b[0;34m\u001b[0m\n\u001b[0;32m----> 1\u001b[0;31m \u001b[0mtable\u001b[0m \u001b[0;34m=\u001b[0m \u001b[0mafwTable\u001b[0m\u001b[0;34m.\u001b[0m\u001b[0mSourceCatalog\u001b[0m\u001b[0;34m(\u001b[0m\u001b[0mschema\u001b[0m\u001b[0;34m)\u001b[0m\u001b[0;34m\u001b[0m\u001b[0;34m\u001b[0m\u001b[0m\n\u001b[0m",
      "\u001b[0;31mNameError\u001b[0m: name 'schema' is not defined"
     ]
    }
   ],
   "source": [
    "table = afwTable.SourceCatalog(schema)"
   ]
  },
  {
   "cell_type": "code",
   "execution_count": 3,
   "id": "aggregate-pillow",
   "metadata": {},
   "outputs": [
    {
     "data": {
      "text/plain": [
       "<class 'lsst.afw.table.SourceCatalog'>\n",
       " id coord_ra ... ext_testGaap_GaapFlux_flag_edge\n",
       "      rad    ...                                \n",
       "--- -------- ... -------------------------------"
      ]
     },
     "execution_count": 3,
     "metadata": {},
     "output_type": "execute_result"
    }
   ],
   "source": [
    "afwTable.io.setPreppedRowsFactor(128)\n",
    "table = afwTable.SourceCatalog(schema)\n",
    "table"
   ]
  },
  {
   "cell_type": "code",
   "execution_count": null,
   "id": "whole-tissue",
   "metadata": {},
   "outputs": [],
   "source": [
    "table[0] = record"
   ]
  },
  {
   "cell_type": "code",
   "execution_count": 1,
   "id": "danish-packet",
   "metadata": {},
   "outputs": [
    {
     "name": "stdout",
     "output_type": "stream",
     "text": [
      "Object `afwTable.SourceCatalog` not found.\n"
     ]
    }
   ],
   "source": [
    "table."
   ]
  },
  {
   "cell_type": "code",
   "execution_count": null,
   "id": "focused-solid",
   "metadata": {},
   "outputs": [],
   "source": [
    "table = afwTable.SourceCatalog"
   ]
  },
  {
   "cell_type": "code",
   "execution_count": null,
   "id": "cardiovascular-bolivia",
   "metadata": {},
   "outputs": [],
   "source": [
    "table = afwTable.SourceCatalog"
   ]
  },
  {
   "cell_type": "code",
   "execution_count": null,
   "id": "impressed-hanging",
   "metadata": {},
   "outputs": [],
   "source": [
    "table = afwTable.SourceCatalog.reserve"
   ]
  },
  {
   "cell_type": "code",
   "execution_count": 4,
   "id": "twelve-importance",
   "metadata": {},
   "outputs": [],
   "source": [
    "table = afwTable.SourceCatalog(schema)"
   ]
  },
  {
   "cell_type": "code",
   "execution_count": 17,
   "id": "opening-profit",
   "metadata": {},
   "outputs": [
    {
     "name": "stdout",
     "output_type": "stream",
     "text": [
      "/home/kannawad/jhome/GAaP_analysis/GAaP_analysis\r\n"
     ]
    }
   ],
   "source": [
    "!pwd"
   ]
  },
  {
   "cell_type": "code",
   "execution_count": null,
   "id": "opening-rebel",
   "metadata": {},
   "outputs": [],
   "source": []
  }
 ],
 "metadata": {
  "kernelspec": {
   "display_name": "Python 3",
   "language": "python",
   "name": "python3"
  },
  "language_info": {
   "codemirror_mode": {
    "name": "ipython",
    "version": 3
   },
   "file_extension": ".py",
   "mimetype": "text/x-python",
   "name": "python",
   "nbconvert_exporter": "python",
   "pygments_lexer": "ipython3",
   "version": "3.8.6"
  }
 },
 "nbformat": 4,
 "nbformat_minor": 5
}
