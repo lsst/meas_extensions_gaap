{
 "cells": [
  {
   "cell_type": "markdown",
   "id": "collaborative-norwegian",
   "metadata": {},
   "source": [
    "## Curve of Growth with GAaP\n",
    "\n",
    "For point-sources, one would expect that having a wider aperture must lead to a slightly larger flux on average, and certainly not a lower value of flux systematically. However, GAaP fluxes for PSF stars exhibit this counter intuitive behaviour."
   ]
  },
  {
   "cell_type": "code",
   "execution_count": 1,
   "id": "satisfied-experience",
   "metadata": {},
   "outputs": [],
   "source": [
    "import numpy as np\n",
    "from imp import reload\n",
    "\n",
    "import matplotlib\n",
    "%matplotlib inline\n",
    "%config InlineBackend.print_figure_kwargs={'facecolor':\"w\"}\n",
    "import matplotlib.pyplot as plt\n",
    "import matplotlib.cm as cm\n",
    "\n",
    "import galsim\n",
    "\n",
    "from lsst.daf.butler import Butler\n",
    "import lsst.afw.detection as afwDetection\n",
    "import lsst.afw.geom as afwGeom\n",
    "from lsst.meas.base import SdssShapeAlgorithm, SafeCentroidExtractor\n",
    "import lsst.meas.extensions.gaap"
   ]
  },
  {
   "cell_type": "code",
   "execution_count": 85,
   "id": "appropriate-excerpt",
   "metadata": {},
   "outputs": [
    {
     "data": {
      "text/plain": [
       "<module 'lsst.meas.extensions.gaap' from '/home/kannawad/repo/meas_extensions_gaap/python/lsst/meas/extensions/gaap/__init__.py'>"
      ]
     },
     "execution_count": 85,
     "metadata": {},
     "output_type": "execute_result"
    }
   ],
   "source": [
    "reload(lsst.meas.extensions.gaap)"
   ]
  },
  {
   "cell_type": "code",
   "execution_count": 2,
   "id": "whole-elements",
   "metadata": {},
   "outputs": [],
   "source": [
    "matplotlib.rcParams['ps.useafm']=True\n",
    "matplotlib.rcParams['pdf.use14corefonts']=True\n",
    "matplotlib.rcParams['text.usetex']=True\n",
    "matplotlib.rcParams['ps.useafm']=True\n",
    "matplotlib.rcParams['pdf.use14corefonts']=True\n",
    "matplotlib.rcParams['text.usetex']=True\n",
    "matplotlib.rcParams['legend.fontsize']=14\n",
    "matplotlib.rcParams['legend.numpoints']=1\n",
    "matplotlib.rcParams['legend.frameon']=False\n",
    "matplotlib.rcParams['legend.handlelength']=0.\n",
    "matplotlib.rcParams['xtick.minor.visible']=True\n",
    "matplotlib.rcParams['ytick.minor.visible']=True\n",
    "matplotlib.rcParams['ytick.direction']='inout'\n",
    "matplotlib.rcParams['xtick.direction']='inout'\n",
    "if matplotlib.rcParams['xtick.direction']=='inout':\n",
    "    matplotlib.rcParams['xtick.major.size']=2.*matplotlib.rcParams['xtick.major.size']\n",
    "    matplotlib.rcParams['xtick.minor.size']=2.*matplotlib.rcParams['xtick.minor.size']\n",
    "if matplotlib.rcParams['ytick.direction']=='inout':\n",
    "    matplotlib.rcParams['ytick.major.size']=2.*matplotlib.rcParams['ytick.major.size']\n",
    "    matplotlib.rcParams['ytick.minor.size']=2.*matplotlib.rcParams['ytick.minor.size']\n",
    "matplotlib.rcParams['figure.subplot.bottom']=0.1\n",
    "matplotlib.rcParams['figure.subplot.top']=0.95\n",
    "matplotlib.rcParams['figure.subplot.right']=0.95\n",
    "matplotlib.rcParams['figure.subplot.left']=0.095\n",
    "matplotlib.rcParams['axes.labelsize']=18\n",
    "matplotlib.rc('font',size=18)"
   ]
  },
  {
   "cell_type": "code",
   "execution_count": 85,
   "id": "indoor-cattle",
   "metadata": {},
   "outputs": [],
   "source": [
    "REPO=\"/project/hsc/gen3repo/rc2w06_ssw06\"\n",
    "collection=\"u/kannawad/gaap1\"\n",
    "\n",
    "butler = Butler(REPO, run=collection)"
   ]
  },
  {
   "cell_type": "code",
   "execution_count": 4,
   "id": "mature-healthcare",
   "metadata": {},
   "outputs": [],
   "source": [
    "dataId = {'tract': 9615, 'patch':23, 'band':'i'}"
   ]
  },
  {
   "cell_type": "code",
   "execution_count": 5,
   "id": "annual-samoa",
   "metadata": {},
   "outputs": [],
   "source": [
    "meas = butler.get(\"deepCoadd_meas\", **dataId)\n",
    "deepCoadd = butler.get(\"deepCoadd_calexp\", **dataId)\n",
    "photoCalib = deepCoadd.getPhotoCalib()"
   ]
  },
  {
   "cell_type": "code",
   "execution_count": 6,
   "id": "mobile-obligation",
   "metadata": {},
   "outputs": [],
   "source": [
    "psfStars = meas['calib_psf_used']"
   ]
  },
  {
   "cell_type": "code",
   "execution_count": 7,
   "id": "phantom-update",
   "metadata": {},
   "outputs": [
    {
     "name": "stderr",
     "output_type": "stream",
     "text": [
      "<ipython-input-7-ecf76e805b1b>:3: RuntimeWarning: invalid value encountered in log10\n",
      "  logFluxRatio = -2.5*np.log10(fluxRatio)\n"
     ]
    },
    {
     "data": {
      "text/plain": [
       "<matplotlib.legend.Legend at 0x7f8eeb26bf10>"
      ]
     },
     "execution_count": 7,
     "metadata": {},
     "output_type": "execute_result"
    },
    {
     "data": {
      "image/png": "[encoded data removed]",
      "text/plain": [
       "<Figure size 432x288 with 1 Axes>"
      ]
     },
     "metadata": {
      "needs_background": "light"
     },
     "output_type": "display_data"
    }
   ],
   "source": [
    "bins = np.linspace(-0.05, 0.05, 21)\n",
    "fluxRatio = meas['ext_gaap_GaapFlux_1_15x_4_0_instFlux']/meas['ext_gaap_GaapFlux_1_15x_5_0_instFlux']\n",
    "logFluxRatio = -2.5*np.log10(fluxRatio)\n",
    "magDiff = photoCalib.instFluxToMagnitude(meas, 'ext_gaap_GaapFlux_1_15x_4_0')[:,0]-photoCalib.instFluxToMagnitude(meas, 'ext_gaap_GaapFlux_1_15x_5_0')[:,0]\n",
    "plt.hist(logFluxRatio[psfStars], bins=bins, histtype='stepfilled',label='From flux ratios')\n",
    "plt.hist(magDiff[psfStars], bins=bins, histtype='step', label='instFluxToMagnitude')\n",
    "plt.axvline(0.0, ls=':')\n",
    "plt.legend()"
   ]
  },
  {
   "cell_type": "markdown",
   "id": "instructional-shoot",
   "metadata": {},
   "source": [
    "Thus, the flux photometered with $\\sigma=4$ pixels is systematically larger than the flux photometered with $\\sigma=5$ pixel Gaussian.\n",
    "\n",
    "### Prime suspects\n",
    "\n",
    "1. #### Normalization issues in the Gaussian aperture ####\n",
    "3. #### Photometric calibration differences: ####\n",
    "\n",
    "    Because this is in the same band, the photometric calibration should not matter. Additionally, it is present in the ratio of instFlux as well as difference of magnitudes.\n",
    "2. #### Gaussianized PSF has negative pixel rings ####"
   ]
  },
  {
   "cell_type": "code",
   "execution_count": 8,
   "id": "fancy-scale",
   "metadata": {},
   "outputs": [],
   "source": [
    "## Initialize the GAaP measurement plugin\n",
    "gaapConfig = lsst.meas.extensions.gaap.GaapFluxConfig()\n",
    "gaapPlugin = lsst.meas.extensions.gaap.GaapFluxPlugin(gaapConfig, 'ext_testGaap_GaapFlux', meas.schema, None)"
   ]
  },
  {
   "cell_type": "code",
   "execution_count": 9,
   "id": "affecting-agreement",
   "metadata": {},
   "outputs": [],
   "source": [
    "record = meas[psfStars][110]\n",
    "bbox = record.getFootprint().getBBox()\n",
    "center = lsst.geom.Point2D(record['base_SdssShape_x'], record['base_SdssShape_y'])\n",
    "seeing = deepCoadd.getPsf().computeShape(center).getTraceRadius()\n",
    "targetSigma = 1.15*seeing\n",
    "stampSize = gaapConfig.modelPsfDimension\n",
    "targetPsf = afwDetection.GaussianPsf(stampSize, stampSize, targetSigma)"
   ]
  },
  {
   "cell_type": "code",
   "execution_count": 10,
   "id": "surprising-doctrine",
   "metadata": {},
   "outputs": [
    {
     "data": {
      "text/plain": [
       "(False,\n",
       " Point2D(20985.4499, 9220.344379),\n",
       " Box2I(minimum=Point2I(20967, 9199), dimensions=Extent2I(40, 52)))"
      ]
     },
     "execution_count": 10,
     "metadata": {},
     "output_type": "execute_result"
    }
   ],
   "source": [
    "record['ext_gaap_GaapFlux_flag_edge'], center, bbox"
   ]
  },
  {
   "cell_type": "code",
   "execution_count": 11,
   "id": "small-ontario",
   "metadata": {},
   "outputs": [
    {
     "data": {
      "text/plain": [
       "(3347.7318494582773, 3306.1418332979956)"
      ]
     },
     "execution_count": 11,
     "metadata": {},
     "output_type": "execute_result"
    }
   ],
   "source": [
    "record['ext_gaap_GaapFlux_1_15x_4_0_instFlux'], record['ext_gaap_GaapFlux_1_15x_5_0_instFlux']"
   ]
  },
  {
   "cell_type": "code",
   "execution_count": 12,
   "id": "ignored-premises",
   "metadata": {},
   "outputs": [],
   "source": [
    "convolved = gaapPlugin._generic.convolve(deepCoadd, targetPsf, record)"
   ]
  },
  {
   "cell_type": "code",
   "execution_count": 13,
   "id": "blind-reasoning",
   "metadata": {},
   "outputs": [
    {
     "data": {
      "text/plain": [
       "<matplotlib.colorbar.Colorbar at 0x7f8fd46b13d0>"
      ]
     },
     "execution_count": 13,
     "metadata": {},
     "output_type": "execute_result"
    },
    {
     "data": {
      "image/png": "[encoded data removed]",
      "text/plain": [
       "<Figure size 432x288 with 4 Axes>"
      ]
     },
     "metadata": {
      "needs_background": "light"
     },
     "output_type": "display_data"
    }
   ],
   "source": [
    "fig, ax = plt.subplots(1,2, sharex=True, sharey=True)\n",
    "\n",
    "vmax = max(-deepCoadd[bbox].image.array.min(), deepCoadd[bbox].image.array.max())\n",
    "_im = ax[0].imshow(deepCoadd[bbox].image.array, cmap=cm.bwr, vmin=-vmax, vmax=vmax)\n",
    "fig.colorbar(_im, ax=ax[0])\n",
    "\n",
    "vmax = max(-convolved.getMaskedImage().image.array.min(), convolved.getMaskedImage().image.array.max())\n",
    "_im = ax[1].imshow(convolved.getMaskedImage().image.array, cmap=cm.bwr, vmin=-vmax, vmax=vmax)\n",
    "fig.colorbar(_im, ax=ax[1])"
   ]
  },
  {
   "cell_type": "code",
   "execution_count": 14,
   "id": "superior-jefferson",
   "metadata": {},
   "outputs": [
    {
     "name": "stdout",
     "output_type": "stream",
     "text": [
      "Observed peak =  121.684105\n",
      "116.57416381640033 < Exepected peak < 131.2088156101875\n"
     ]
    }
   ],
   "source": [
    "print(\"Observed peak = \", convolved.getMaskedImage().image.array.max())\n",
    "flux = record['base_PsfFlux_instFlux']\n",
    "print(f\"{flux*np.exp(-1.0*(0.5/targetSigma)**2)/(2*np.pi*targetSigma**2)} < Exepected peak < {flux/(2*np.pi*targetSigma**2)}\")"
   ]
  },
  {
   "cell_type": "code",
   "execution_count": 15,
   "id": "peaceful-germany",
   "metadata": {},
   "outputs": [
    {
     "name": "stdout",
     "output_type": "stream",
     "text": [
      "galsim.PositionD(19.449951609743,22.34279573910298) galsim.PositionD(19.449385130128917,22.345023600854894)\n"
     ]
    }
   ],
   "source": [
    "origPsf = galsim.Image(deepCoadd[bbox].image.array)\n",
    "newPsf = galsim.Image(convolved.getMaskedImage().image.array)\n",
    "print(origPsf.FindAdaptiveMom().moments_centroid, newPsf.FindAdaptiveMom().moments_centroid)"
   ]
  },
  {
   "cell_type": "code",
   "execution_count": 16,
   "id": "editorial-merit",
   "metadata": {},
   "outputs": [
    {
     "name": "stdout",
     "output_type": "stream",
     "text": [
      "594.819580078125 0.40275833\n"
     ]
    }
   ],
   "source": [
    "sigma = 1.4/3\n",
    "targetPsf = galsim.Gaussian(sigma=sigma, flux=1000.)\n",
    "targetPsfIm = galsim.Image(64,64)\n",
    "targetPsfIm = targetPsf.drawImage(image=targetPsfIm, scale=1.0, method='auto')\n",
    "weight = galsim.Gaussian(sigma=sigma, flux=2.*np.pi*sigma**2)\n",
    "weightIm = galsim.Image(64,64)\n",
    "weightIm = weight.drawImage(image=weightIm, scale=1.0, method='no_pixel')\n",
    "\n",
    "print(np.sum(weightIm.array*targetPsfIm.array)*2.0, np.sum(weightIm.array**2))"
   ]
  },
  {
   "cell_type": "code",
   "execution_count": 17,
   "id": "alpine-nickname",
   "metadata": {},
   "outputs": [
    {
     "data": {
      "text/plain": [
       "(999.99677, 0.946396848420875)"
      ]
     },
     "execution_count": 17,
     "metadata": {},
     "output_type": "execute_result"
    }
   ],
   "source": [
    "targetPsfIm.array.sum(), weightIm.array.sum()/(2*np.pi*sigma**2)"
   ]
  },
  {
   "cell_type": "code",
   "execution_count": 18,
   "id": "iraqi-darwin",
   "metadata": {},
   "outputs": [
    {
     "data": {
      "text/plain": [
       "(Box2I(minimum=Point2I(20967, 9199), dimensions=Extent2I(40, 52)),\n",
       " Box2I(minimum=Point2I(20967, 9199), dimensions=Extent2I(40, 52)))"
      ]
     },
     "execution_count": 18,
     "metadata": {},
     "output_type": "execute_result"
    }
   ],
   "source": [
    "convolved.getMaskedImage().getBBox(), bbox"
   ]
  },
  {
   "cell_type": "code",
   "execution_count": 19,
   "id": "chronic-voltage",
   "metadata": {},
   "outputs": [
    {
     "name": "stdout",
     "output_type": "stream",
     "text": [
      "2998.6771337896917 3455.1806280400174 1.1522349602450872\n",
      "3163.9280549304294 3456.174315181263 1.092368174995452\n"
     ]
    }
   ],
   "source": [
    "for sigma in gaapConfig.sigmas:\n",
    "    aperSigma2 = sigma**2 - targetSigma**2\n",
    "    aperShape = afwGeom.Quadrupole(aperSigma2, aperSigma2, 0.0)\n",
    "    fluxResult = SdssShapeAlgorithm.computeFixedMomentsFlux(convolved.getMaskedImage(),\n",
    "                                                            aperShape, center)\n",
    "    fluxScaling = sigma**2/aperSigma2\n",
    "    print(fluxResult.instFlux, fluxResult.instFlux*fluxScaling, fluxScaling)"
   ]
  },
  {
   "cell_type": "code",
   "execution_count": 20,
   "id": "supposed-likelihood",
   "metadata": {},
   "outputs": [],
   "source": [
    "clippedImage = convolved.getMaskedImage()\n",
    "clippedImage.image.array[clippedImage.image.array<0]=0"
   ]
  },
  {
   "cell_type": "code",
   "execution_count": 21,
   "id": "worthy-correlation",
   "metadata": {},
   "outputs": [
    {
     "name": "stdout",
     "output_type": "stream",
     "text": [
      "3000.8094212393153 3457.6375241847654 1.1522349602450872\n",
      "3167.547735399915 3460.128338929782 1.092368174995452\n"
     ]
    }
   ],
   "source": [
    "for sigma in gaapConfig.sigmas:\n",
    "    aperSigma2 = sigma**2 - targetSigma**2\n",
    "    aperShape = afwGeom.Quadrupole(aperSigma2, aperSigma2, 0.0)\n",
    "    fluxResult = SdssShapeAlgorithm.computeFixedMomentsFlux(clippedImage,\n",
    "                                                            aperShape, center)\n",
    "    fluxScaling = sigma**2/aperSigma2\n",
    "    print(fluxResult.instFlux, fluxResult.instFlux*fluxScaling, fluxScaling)"
   ]
  },
  {
   "cell_type": "markdown",
   "id": "intended-avenue",
   "metadata": {},
   "source": [
    "#### Would PSF photometry have given some clue?"
   ]
  },
  {
   "cell_type": "code",
   "execution_count": 23,
   "id": "nonprofit-polyester",
   "metadata": {},
   "outputs": [
    {
     "name": "stdout",
     "output_type": "stream",
     "text": [
      "1742.7545139166486\n",
      "1737.1434383062733 1790.043 1781.3506\n",
      "337.0568\n"
     ]
    }
   ],
   "source": [
    "print(record['base_PsfFlux_instFlux'])\n",
    "aperSigma2 = targetSigma**2\n",
    "aperShape = afwGeom.Quadrupole(aperSigma2, aperSigma2, 0.0)\n",
    "fluxResult = SdssShapeAlgorithm.computeFixedMomentsFlux(convolved.getMaskedImage(),\n",
    "                                                        aperShape, center)\n",
    "fluxScaling = 1. ## should be 2 but this is done in computeFixedMomentsFlux\n",
    "print(fluxResult.instFlux*fluxScaling, convolved.getMaskedImage().image.array.sum(), deepCoadd[bbox].image.array.sum())\n",
    "print(np.sqrt(np.sum(convolved.getMaskedImage().image.array**2)))"
   ]
  },
  {
   "cell_type": "code",
   "execution_count": 26,
   "id": "silver-bargain",
   "metadata": {},
   "outputs": [
    {
     "data": {
      "text/plain": [
       "Box2I(minimum=Point2I(20967, 9199), dimensions=Extent2I(40, 52))"
      ]
     },
     "execution_count": 26,
     "metadata": {},
     "output_type": "execute_result"
    }
   ],
   "source": [
    "bbox.erodedBy(gaapConfig.modelPsfMatch.kernel.active.kernelSize//2)"
   ]
  },
  {
   "cell_type": "code",
   "execution_count": 25,
   "id": "referenced-family",
   "metadata": {},
   "outputs": [],
   "source": [
    "gaapPlugin._generic.measure?"
   ]
  },
  {
   "cell_type": "markdown",
   "id": "labeled-cradle",
   "metadata": {},
   "source": [
    "#### Let us measure for all sources"
   ]
  },
  {
   "cell_type": "code",
   "execution_count": 39,
   "id": "greek-crisis",
   "metadata": {},
   "outputs": [
    {
     "data": {
      "text/plain": [
       "771"
      ]
     },
     "execution_count": 39,
     "metadata": {},
     "output_type": "execute_result"
    }
   ],
   "source": [
    "(psfStars&(meas['ext_gaap_GaapFlux_flag']==0)).sum()"
   ]
  },
  {
   "cell_type": "code",
   "execution_count": 31,
   "id": "pacific-casting",
   "metadata": {},
   "outputs": [],
   "source": [
    "gaapPsfPhot, gaap4, gaap5 = [], [], []\n",
    "for record in meas[psfStars&(meas['ext_gaap_GaapFlux_flag']==0)]:\n",
    "    bbox = record.getFootprint().getBBox()\n",
    "    center = lsst.geom.Point2D(record['base_SdssShape_x'], record['base_SdssShape_y'])\n",
    "    seeing = deepCoadd.getPsf().computeShape(center).getTraceRadius()\n",
    "    targetSigma = 1.15*seeing\n",
    "    stampSize = gaapConfig.modelPsfDimension\n",
    "    targetPsf = afwDetection.GaussianPsf(stampSize, stampSize, targetSigma)\n",
    "    \n",
    "    convolved = gaapPlugin._generic.convolve(deepCoadd, targetPsf, record)\n",
    "    \n",
    "    ## PSF photometry\n",
    "    aperSigma2 = targetSigma**2\n",
    "    aperShape = afwGeom.Quadrupole(aperSigma2, aperSigma2, 0.0)\n",
    "    fluxResult = SdssShapeAlgorithm.computeFixedMomentsFlux(convolved.getMaskedImage(),\n",
    "                                                            aperShape, center)\n",
    "    fluxScaling = 1. ## should be 2 but this is done in computeFixedMomentsFlux\n",
    "    gaapPsfPhot.append( fluxResult.instFlux*fluxScaling )\n",
    "    ## Aperture photometry\n",
    "    for sigma in gaapConfig.sigmas:\n",
    "        aperSigma2 = sigma**2 - targetSigma**2\n",
    "        aperShape = afwGeom.Quadrupole(aperSigma2, aperSigma2, 0.0)\n",
    "        fluxResult = SdssShapeAlgorithm.computeFixedMomentsFlux(convolved.getMaskedImage(),\n",
    "                                                                aperShape, center)\n",
    "        fluxScaling = 0.5*sigma**2/aperSigma2\n",
    "        \n",
    "        if sigma==4:\n",
    "            gaap4.append( fluxResult.instFlux*fluxScaling)\n",
    "        elif sigma==5:\n",
    "            gaap5.append( fluxResult.instFlux*fluxScaling)\n",
    "            "
   ]
  },
  {
   "cell_type": "code",
   "execution_count": 64,
   "id": "automated-seeking",
   "metadata": {},
   "outputs": [
    {
     "data": {
      "text/plain": [
       "Text(0.5, 0, '$\\\\Delta$ PSF magnitude')"
      ]
     },
     "execution_count": 64,
     "metadata": {},
     "output_type": "execute_result"
    },
    {
     "data": {
      "image/png": "[encoded data removed]",
      "text/plain": [
       "<Figure size 432x288 with 1 Axes>"
      ]
     },
     "metadata": {
      "needs_background": "light"
     },
     "output_type": "display_data"
    }
   ],
   "source": [
    "fig, ax = plt.subplots()\n",
    "fluxRatio = np.array(gaapPsfPhot)/X\n",
    "dmag = -2.5*np.log10(fluxRatio)\n",
    "bins = 50\n",
    "ax.hist(dmag, bins=bins, histtype='step')\n",
    "ax.axvspan(xmin=np.percentile(dmag, 16), xmax=np.percentile(dmag,84),alpha=0.1)\n",
    "ax.axvline(np.percentile(dmag,50), color='C0', ls='--')\n",
    "ax.axvline(0.0, color='k', ls=':')\n",
    "ax.set_xlabel(r'$\\Delta$ PSF magnitude')"
   ]
  },
  {
   "cell_type": "code",
   "execution_count": 66,
   "id": "attached-chance",
   "metadata": {},
   "outputs": [
    {
     "data": {
      "text/plain": [
       "Text(0, 0.5, 'GAaP PSF instFlux / PSF instFlux')"
      ]
     },
     "execution_count": 66,
     "metadata": {},
     "output_type": "execute_result"
    },
    {
     "data": {
      "image/png": "[encoded data removed]",
      "text/plain": [
       "<Figure size 432x288 with 1 Axes>"
      ]
     },
     "metadata": {
      "needs_background": "light"
     },
     "output_type": "display_data"
    }
   ],
   "source": [
    "fig, ax = plt.subplots()\n",
    "X = meas[psfStars&(meas['ext_gaap_GaapFlux_flag']==0)]['base_PsfFlux_instFlux']\n",
    "fluxRatio = np.array(gaapPsfPhot)/X\n",
    "psfMag = photoCalib.instFluxToMagnitude(meas[psfStars&(meas['ext_gaap_GaapFlux_flag']==0)],'base_PsfFlux')[:,0]\n",
    "ax.plot(psfMag, fluxRatio, '.', alpha=0.3)\n",
    "\n",
    "#cat = meas[psfStars&(meas['ext_gaap_GaapFlux_flag']==0)]\n",
    "#trRadius = np.sqrt(0.5*(cat['base_SdssShape_xx']+cat['base_SdssShape_yy']))\n",
    "\n",
    "#ax[1].plot(trRadius, fluxRatio, '.', alpha=0.3)\n",
    "ax.axhline(1.0, color='k', ls='--')\n",
    "ax.set_xlabel('PSF magnitude')\n",
    "ax.set_ylabel('GAaP PSF instFlux / PSF instFlux')"
   ]
  },
  {
   "cell_type": "code",
   "execution_count": 63,
   "id": "enabling-congo",
   "metadata": {},
   "outputs": [
    {
     "data": {
      "text/plain": [
       "Text(0.5, 0, 'PSF magnitude')"
      ]
     },
     "execution_count": 63,
     "metadata": {},
     "output_type": "execute_result"
    },
    {
     "data": {
      "image/png": "[encoded data removed]",
      "text/plain": [
       "<Figure size 432x288 with 1 Axes>"
      ]
     },
     "metadata": {
      "needs_background": "light"
     },
     "output_type": "display_data"
    }
   ],
   "source": [
    "fig, ax = plt.subplots(1)\n",
    "X = meas[psfStars&(meas['ext_gaap_GaapFlux_flag']==0)]['base_PsfFlux_instFlux']\n",
    "fluxRatio = np.array(gaap4)/np.array(gaap5)\n",
    "psfMag = photoCalib.instFluxToMagnitude(meas[psfStars&(meas['ext_gaap_GaapFlux_flag']==0)],'base_PsfFlux')[:,0]\n",
    "ax.plot(psfMag, -2.5*np.log10(fluxRatio), '.', color='C2', alpha=0.3)\n",
    "\n",
    "cat = meas[psfStars&(meas['ext_gaap_GaapFlux_flag']==0)]\n",
    "trRadius = np.sqrt(0.5*(cat['base_SdssShape_xx']+cat['base_SdssShape_yy']))\n",
    "\n",
    "#ax.plot(trRadius, -2.5*np.log10(fluxRatio), '.', alpha=0.3)\n",
    "#ax.axhline(1.0, color='k', ls='--')\n",
    "#ax.axhline(1.0, color='k', ls='--')\n",
    "\n",
    "#for _ax in ax:\n",
    "_ax = ax\n",
    "ax.axhline(0.0, color='gray', ls='--', alpha=0.7)\n",
    "ax.set_ylim([-0.025,0.075])\n",
    "ax.set_ylabel(\"GaapFlux\\_1\\_15x\\_4\\_0/ \\n GaapFlux\\_1\\_15x\\_5\\_0 [mag]\")\n",
    "ax.set_xlabel('PSF magnitude')"
   ]
  },
  {
   "cell_type": "code",
   "execution_count": 67,
   "id": "inappropriate-chancellor",
   "metadata": {},
   "outputs": [],
   "source": [
    "## Colors\n",
    "\n",
    "dataId = {'tract': 9615, 'patch':23, 'band':'g'}\n",
    "meas_g = butler.get(\"deepCoadd_meas\", **dataId)\n",
    "deepCoadd_g = butler.get(\"deepCoadd_calexp\", **dataId)\n",
    "\n",
    "dataId = {'tract': 9615, 'patch':23, 'band':'r'}\n",
    "meas_r = butler.get(\"deepCoadd_meas\", **dataId)\n",
    "deepCoadd_r = butler.get(\"deepCoadd_calexp\", **dataId)"
   ]
  },
  {
   "cell_type": "code",
   "execution_count": 68,
   "id": "headed-underground",
   "metadata": {},
   "outputs": [],
   "source": [
    "gaapPsfPhot_g, gaap4_g, gaap5_g = [], [], []\n",
    "for record in meas_g[psfStars&(meas_g['ext_gaap_GaapFlux_flag']==0)]:\n",
    "    bbox = record.getFootprint().getBBox()\n",
    "    center = lsst.geom.Point2D(record['base_SdssShape_x'], record['base_SdssShape_y'])\n",
    "    seeing = deepCoadd_g.getPsf().computeShape(center).getTraceRadius()\n",
    "    targetSigma = 1.15*seeing\n",
    "    stampSize = gaapConfig.modelPsfDimension\n",
    "    targetPsf = afwDetection.GaussianPsf(stampSize, stampSize, targetSigma)\n",
    "    \n",
    "    convolved = gaapPlugin._generic.convolve(deepCoadd_g, targetPsf, record)\n",
    "    \n",
    "    ## PSF photometry\n",
    "    aperSigma2 = targetSigma**2\n",
    "    aperShape = afwGeom.Quadrupole(aperSigma2, aperSigma2, 0.0)\n",
    "    fluxResult = SdssShapeAlgorithm.computeFixedMomentsFlux(convolved.getMaskedImage(),\n",
    "                                                            aperShape, center)\n",
    "    fluxScaling = 1. ## should be 2 but this is done in computeFixedMomentsFlux\n",
    "    gaapPsfPhot_g.append( fluxResult.instFlux*fluxScaling )\n",
    "    ## Aperture photometry\n",
    "    for sigma in gaapConfig.sigmas:\n",
    "        aperSigma2 = sigma**2 - targetSigma**2\n",
    "        aperShape = afwGeom.Quadrupole(aperSigma2, aperSigma2, 0.0)\n",
    "        fluxResult = SdssShapeAlgorithm.computeFixedMomentsFlux(convolved.getMaskedImage(),\n",
    "                                                                aperShape, center)\n",
    "        fluxScaling = 0.5*sigma**2/aperSigma2\n",
    "        \n",
    "        if sigma==4:\n",
    "            gaap4_g.append( fluxResult.instFlux*fluxScaling)\n",
    "        elif sigma==5:\n",
    "            gaap5_g.append( fluxResult.instFlux*fluxScaling)"
   ]
  },
  {
   "cell_type": "code",
   "execution_count": 69,
   "id": "planned-korean",
   "metadata": {},
   "outputs": [],
   "source": [
    "gaapPsfPhot_r, gaap4_r, gaap5_r = [], [], []\n",
    "for record in meas_r[psfStars&(meas_r['ext_gaap_GaapFlux_flag']==0)]:\n",
    "    bbox = record.getFootprint().getBBox()\n",
    "    center = lsst.geom.Point2D(record['base_SdssShape_x'], record['base_SdssShape_y'])\n",
    "    seeing = deepCoadd_r.getPsf().computeShape(center).getTraceRadius()\n",
    "    targetSigma = 1.15*seeing\n",
    "    stampSize = gaapConfig.modelPsfDimension\n",
    "    targetPsf = afwDetection.GaussianPsf(stampSize, stampSize, targetSigma)\n",
    "    \n",
    "    convolved = gaapPlugin._generic.convolve(deepCoadd_r, targetPsf, record)\n",
    "    \n",
    "    ## PSF photometry\n",
    "    aperSigma2 = targetSigma**2\n",
    "    aperShape = afwGeom.Quadrupole(aperSigma2, aperSigma2, 0.0)\n",
    "    fluxResult = SdssShapeAlgorithm.computeFixedMomentsFlux(convolved.getMaskedImage(),\n",
    "                                                            aperShape, center)\n",
    "    fluxScaling = 1. ## should be 2 but this is done in computeFixedMomentsFlux\n",
    "    gaapPsfPhot_r.append( fluxResult.instFlux*fluxScaling )\n",
    "    ## Aperture photometry\n",
    "    for sigma in gaapConfig.sigmas:\n",
    "        aperSigma2 = sigma**2 - targetSigma**2\n",
    "        aperShape = afwGeom.Quadrupole(aperSigma2, aperSigma2, 0.0)\n",
    "        fluxResult = SdssShapeAlgorithm.computeFixedMomentsFlux(convolved.getMaskedImage(),\n",
    "                                                                aperShape, center)\n",
    "        fluxScaling = 0.5*sigma**2/aperSigma2\n",
    "        \n",
    "        if sigma==4:\n",
    "            gaap4_r.append( fluxResult.instFlux*fluxScaling)\n",
    "        elif sigma==5:\n",
    "            gaap5_r.append( fluxResult.instFlux*fluxScaling)"
   ]
  },
  {
   "cell_type": "code",
   "execution_count": 71,
   "id": "fewer-ceremony",
   "metadata": {},
   "outputs": [],
   "source": [
    "gPsfMag = -2.5*np.log10(np.array(gaapPsfPhot_g))\n",
    "rPsfMag = -2.5*np.log10(np.array(gaapPsfPhot_r))\n",
    "iPsfMag = -2.5*np.log10(np.array(gaapPsfPhot))\n",
    "\n",
    "g4Mag = -2.5*np.log10(np.array(gaap4_g))\n",
    "r4Mag = -2.5*np.log10(np.array(gaap4_r))\n",
    "i4Mag = -2.5*np.log10(np.array(gaap4))\n",
    "\n",
    "g5Mag = -2.5*np.log10(np.array(gaap5_g))\n",
    "r5Mag = -2.5*np.log10(np.array(gaap5_r))\n",
    "i5Mag = -2.5*np.log10(np.array(gaap5))"
   ]
  },
  {
   "cell_type": "code",
   "execution_count": 81,
   "id": "defined-dealing",
   "metadata": {},
   "outputs": [],
   "source": [
    "cmodelFluxKey = \"modelfit_CModel\"\n",
    "g_cmodel = photoCalib.instFluxToMagnitude(meas_g[psfStars], cmodelFluxKey)[:,0]\n",
    "r_cmodel = photoCalib.instFluxToMagnitude(meas_r[psfStars], cmodelFluxKey)[:,0]\n",
    "i_cmodel = photoCalib.instFluxToMagnitude(meas[psfStars], cmodelFluxKey)[:,0]\n",
    "\n",
    "g_r_cmodel = g_cmodel - r_cmodel\n",
    "r_i_cmodel = r_cmodel - i_cmodel"
   ]
  },
  {
   "cell_type": "code",
   "execution_count": 84,
   "id": "surprised-costs",
   "metadata": {},
   "outputs": [
    {
     "data": {
      "text/plain": [
       "<matplotlib.legend.Legend at 0x7f8f9d13c850>"
      ]
     },
     "execution_count": 84,
     "metadata": {},
     "output_type": "execute_result"
    },
    {
     "data": {
      "image/png": "[encoded data removed]",
      "text/plain": [
       "<Figure size 432x288 with 1 Axes>"
      ]
     },
     "metadata": {
      "needs_background": "light"
     },
     "output_type": "display_data"
    }
   ],
   "source": [
    "fig, ax = plt.subplots()\n",
    "\n",
    "ax.plot(gPsfMag-rPsfMag, rPsfMag-iPsfMag, '.', label='GAaP PSF magnitudes')\n",
    "ax.plot(g4Mag-r4Mag, r4Mag-i4Mag, '.', alpha=0.3, label='GAaP 4px magnitudes')\n",
    "ax.plot(g5Mag-r5Mag, r5Mag-i5Mag, '.', alpha=0.1, label='GAaP 5px magnitudes')\n",
    "\n",
    "ax.plot(g_r_cmodel, r_i_cmodel, 'o', fillstyle='none', alpha=0.05, label='CModel')\n",
    "ax.set_xlim([-1,2])\n",
    "ax.legend(loc='best')"
   ]
  },
  {
   "cell_type": "code",
   "execution_count": null,
   "id": "driven-label",
   "metadata": {},
   "outputs": [],
   "source": []
  }
 ],
 "metadata": {
  "kernelspec": {
   "display_name": "Python 3",
   "language": "python",
   "name": "python3"
  },
  "language_info": {
   "codemirror_mode": {
    "name": "ipython",
    "version": 3
   },
   "file_extension": ".py",
   "mimetype": "text/x-python",
   "name": "python",
   "nbconvert_exporter": "python",
   "pygments_lexer": "ipython3",
   "version": "3.8.6"
  }
 },
 "nbformat": 4,
 "nbformat_minor": 5
}
